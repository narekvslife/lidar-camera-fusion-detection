{
 "cells": [
  {
   "cell_type": "code",
   "execution_count": 7,
   "id": "32498148",
   "metadata": {},
   "outputs": [
    {
     "ename": "RuntimeError",
     "evalue": "context has already been set",
     "output_type": "error",
     "traceback": [
      "\u001b[0;31m---------------------------------------------------------------------------\u001b[0m",
      "\u001b[0;31mRuntimeError\u001b[0m                              Traceback (most recent call last)",
      "\u001b[0;32m<ipython-input-7-a142fdf1ad06>\u001b[0m in \u001b[0;36m<module>\u001b[0;34m\u001b[0m\n\u001b[1;32m      5\u001b[0m \u001b[0;32mfrom\u001b[0m \u001b[0mtorchvision\u001b[0m\u001b[0;34m.\u001b[0m\u001b[0mtransforms\u001b[0m \u001b[0;32mimport\u001b[0m \u001b[0mRandomRotation\u001b[0m\u001b[0;34m\u001b[0m\u001b[0;34m\u001b[0m\u001b[0m\n\u001b[1;32m      6\u001b[0m \u001b[0;34m\u001b[0m\u001b[0m\n\u001b[0;32m----> 7\u001b[0;31m \u001b[0mtorch\u001b[0m\u001b[0;34m.\u001b[0m\u001b[0mmultiprocessing\u001b[0m\u001b[0;34m.\u001b[0m\u001b[0mset_start_method\u001b[0m\u001b[0;34m(\u001b[0m\u001b[0;34m'spawn'\u001b[0m\u001b[0;34m)\u001b[0m\u001b[0;34m\u001b[0m\u001b[0;34m\u001b[0m\u001b[0m\n\u001b[0m\u001b[1;32m      8\u001b[0m \u001b[0mtorch\u001b[0m\u001b[0;34m.\u001b[0m\u001b[0mset_default_tensor_type\u001b[0m\u001b[0;34m(\u001b[0m\u001b[0;34m'torch.cuda.FloatTensor'\u001b[0m\u001b[0;34m)\u001b[0m\u001b[0;34m\u001b[0m\u001b[0;34m\u001b[0m\u001b[0m\n\u001b[1;32m      9\u001b[0m \u001b[0;34m\u001b[0m\u001b[0m\n",
      "\u001b[0;32m~/anaconda3/envs/thesis/lib/python3.9/multiprocessing/context.py\u001b[0m in \u001b[0;36mset_start_method\u001b[0;34m(self, method, force)\u001b[0m\n\u001b[1;32m    241\u001b[0m     \u001b[0;32mdef\u001b[0m \u001b[0mset_start_method\u001b[0m\u001b[0;34m(\u001b[0m\u001b[0mself\u001b[0m\u001b[0;34m,\u001b[0m \u001b[0mmethod\u001b[0m\u001b[0;34m,\u001b[0m \u001b[0mforce\u001b[0m\u001b[0;34m=\u001b[0m\u001b[0;32mFalse\u001b[0m\u001b[0;34m)\u001b[0m\u001b[0;34m:\u001b[0m\u001b[0;34m\u001b[0m\u001b[0;34m\u001b[0m\u001b[0m\n\u001b[1;32m    242\u001b[0m         \u001b[0;32mif\u001b[0m \u001b[0mself\u001b[0m\u001b[0;34m.\u001b[0m\u001b[0m_actual_context\u001b[0m \u001b[0;32mis\u001b[0m \u001b[0;32mnot\u001b[0m \u001b[0;32mNone\u001b[0m \u001b[0;32mand\u001b[0m \u001b[0;32mnot\u001b[0m \u001b[0mforce\u001b[0m\u001b[0;34m:\u001b[0m\u001b[0;34m\u001b[0m\u001b[0;34m\u001b[0m\u001b[0m\n\u001b[0;32m--> 243\u001b[0;31m             \u001b[0;32mraise\u001b[0m \u001b[0mRuntimeError\u001b[0m\u001b[0;34m(\u001b[0m\u001b[0;34m'context has already been set'\u001b[0m\u001b[0;34m)\u001b[0m\u001b[0;34m\u001b[0m\u001b[0;34m\u001b[0m\u001b[0m\n\u001b[0m\u001b[1;32m    244\u001b[0m         \u001b[0;32mif\u001b[0m \u001b[0mmethod\u001b[0m \u001b[0;32mis\u001b[0m \u001b[0;32mNone\u001b[0m \u001b[0;32mand\u001b[0m \u001b[0mforce\u001b[0m\u001b[0;34m:\u001b[0m\u001b[0;34m\u001b[0m\u001b[0;34m\u001b[0m\u001b[0m\n\u001b[1;32m    245\u001b[0m             \u001b[0mself\u001b[0m\u001b[0;34m.\u001b[0m\u001b[0m_actual_context\u001b[0m \u001b[0;34m=\u001b[0m \u001b[0;32mNone\u001b[0m\u001b[0;34m\u001b[0m\u001b[0;34m\u001b[0m\u001b[0m\n",
      "\u001b[0;31mRuntimeError\u001b[0m: context has already been set"
     ]
    }
   ],
   "source": [
    "import torch\n",
    "import torch.nn as nn\n",
    "import torch.nn.functional as F\n",
    "from torch.utils.data import Dataset, DataLoader\n",
    "from torchvision.transforms import RandomRotation\n",
    "\n",
    "torch.multiprocessing.set_start_method('spawn')\n",
    "torch.set_default_tensor_type('torch.cuda.FloatTensor')\n",
    "\n",
    "from pyquaternion import Quaternion\n",
    "import numpy as np\n",
    "import matplotlib.pyplot as plt\n",
    "import pandas as pd\n",
    "import plotly.graph_objects as go\n",
    "\n",
    "from tqdm import tqdm\n",
    "\n",
    "from src.prepocess import sample_to_rangeview, pcl_to_rangeview\n",
    "from src.utils import rotation_matrix\n",
    "from src.settings import DATASET_PATH, LABEL_NUMBER, RV_WIDTH, RV_HEIGHT, NUSCENES\n",
    "from src.models.lasernet import LaserNet\n",
    "from src.losses import LaserNetLoss"
   ]
  },
  {
   "cell_type": "markdown",
   "id": "b1f45ae0",
   "metadata": {},
   "source": [
    "---"
   ]
  },
  {
   "cell_type": "markdown",
   "id": "a1147b71",
   "metadata": {},
   "source": [
    "## Training data "
   ]
  },
  {
   "cell_type": "markdown",
   "id": "5ceb87cf",
   "metadata": {},
   "source": [
    "- ___Classification___ task includes semantic segmentation. We predict class labels for each point (cell) in the Range View. If a cell in RV gets a class C, we extrapolate that all points (which fell into that cell during the transformation to RV) get the same label.\n",
    "- ___Regression___ task includes BB regression and mixture parameter tuning"
   ]
  },
  {
   "cell_type": "markdown",
   "id": "960503db",
   "metadata": {},
   "source": [
    "so a single training example consists of: \n",
    "\n",
    "- __$X$__: range_view image | __5 x W x H__\n",
    "\n",
    "\n",
    "- __$Y_{image}$:__ | __C x W x H__, where C - number of classes\n",
    "\n",
    "\n",
    "- __$Y_{bb}$:__ $\\{\\{b_{m,1}, b_{m,2}, b_{m,3}, b_{m,4}\\}, ..., \\}_m^M$ | __M x 4 x 2 x W x H__ | where M is the number of bounding boxes in the image, $b_{m, j} \\in R ^2$ is the absolute coordinate of $m$-th bounding box's $j$-th corner\n",
    "\n",
    "- __$Y_{logstd}$:__ $\\log(\\sigma)$ of the predicted bb coordinates| __scalar__\n",
    "    "
   ]
  },
  {
   "cell_type": "markdown",
   "id": "e2ea4c82",
   "metadata": {},
   "source": [
    "### DataSets, DataLoaders and Transforms"
   ]
  },
  {
   "cell_type": "code",
   "execution_count": 2,
   "id": "6e97accb",
   "metadata": {},
   "outputs": [],
   "source": [
    "from nuscenes import NuScenes\n",
    "from os.path import join\n",
    "\n",
    "class NuscenesDataset(Dataset):\n",
    "\n",
    "    def __init__(self, data_root, n: tuple=None):\n",
    "        \"\"\"\n",
    "        Args:\n",
    "            root_dir (string): root NuScenes directory\n",
    "            transform (callable, optional): Optional transform to be applied on a sample.\n",
    "            \n",
    "            n - tuple with left and right index boundaries, in case we don't want to use all data\n",
    "        \"\"\"\n",
    "        assert len(n) == 2\n",
    "        self.data_root = data_root\n",
    "        self.nuscenes = NUSCENES\n",
    "\n",
    "        if n:\n",
    "            self.samples = self.nuscenes.sample[n[0]:n[1]]\n",
    "        else:\n",
    "            self.samples = self.nuscenes.sample\n",
    "            \n",
    "        # point_clouds_features will be of shape (N, M, 5), \n",
    "        # where N - number of samples, M - number of points in according sample's pointcloud\n",
    "        self.point_clouds_features = []\n",
    "        self.point_clouds_labels = []\n",
    "        \n",
    "        self.__set_point_clouds()\n",
    "            \n",
    "    def __set_point_clouds(self):\n",
    "\n",
    "        for sample in self.samples:\n",
    "            \n",
    "            sample_data_token = sample['data']['LIDAR_TOP']\n",
    "\n",
    "            my_sample_lidar_data = self.nuscenes.get('sample_data', sample_data_token)\n",
    "\n",
    "            lidarseg_labels_filename = join(self.data_root,\n",
    "                                            self.nuscenes.get('lidarseg', sample_data_token)['filename'])\n",
    "\n",
    "            # loading directly from files to perceive the ring_index information\n",
    "            points_raw = np.fromfile(self.data_root + my_sample_lidar_data[\"filename\"], dtype=np.float32).reshape((-1, 5))\n",
    "            point_labels = np.fromfile(lidarseg_labels_filename, dtype=np.uint8)\n",
    "            \n",
    "            self.point_clouds_features.append(points_raw)\n",
    "            self.point_clouds_labels.append(point_labels)\n",
    "            \n",
    "        self.point_clouds_features = np.array(self.point_clouds_features)\n",
    "        self.point_clouds_labels = np.array(self.point_clouds_labels)\n",
    "\n",
    "    def __len__(self):\n",
    "        return len(self.samples)\n",
    "\n",
    "    def get_front_bb(self, sample: dict):\n",
    "        \"\"\"\n",
    "        Function computes and returns\n",
    "        An array of points points of a bounding box in sensor coordinates.\n",
    "        Each point is a (x, y) coordinate, each BB is 4 points\n",
    "\n",
    "        :param sample: nuscenes sample dictionary\n",
    "        :return: np.array of shape (N, 8, 3)\n",
    "        \"\"\"\n",
    "        my_sample_lidar_data = self.nuscenes.get('sample_data', sample['data']['LIDAR_TOP'])\n",
    "        sample_annotation = self.nuscenes.get_boxes(my_sample_lidar_data['token'])\n",
    "\n",
    "        ego_record = self.nuscenes.get('ego_pose', my_sample_lidar_data['ego_pose_token'])\n",
    "        cs_record = self.nuscenes.get('calibrated_sensor', my_sample_lidar_data['calibrated_sensor_token'])\n",
    "\n",
    "        # first step: transform from absolute to ego\n",
    "        ego_translation = -np.array(ego_record['translation'])\n",
    "\n",
    "        # second step: transform from ego to sensor\n",
    "        cs_translation = -np.array(cs_record['translation'])\n",
    "\n",
    "        corners = []\n",
    "        for box in sample_annotation:\n",
    "            box.translate(ego_translation)\n",
    "            box.rotate(Quaternion(ego_record['rotation']).inverse)\n",
    "\n",
    "            box.translate(cs_translation)\n",
    "            box.rotate(Quaternion(cs_record['rotation']).inverse)\n",
    "\n",
    "            # at this point bounding boxes are in sensor coordinate system\n",
    "            # now we want to exclude such BB that do not have their center\n",
    "            # lying in the front 90 degrees\n",
    "\n",
    "            if box.center[1] <= 0:\n",
    "                continue\n",
    "\n",
    "            box.center_azimuth = np.degrees(np.arctan(box.center[0] / box.center[1]))\n",
    "\n",
    "            # Transform front azimuth to be in range from 0 to 180\n",
    "            box.center_azimuth = 90 - box.center_azimuth\n",
    "            if not (45 < box.center_azimuth < 135):\n",
    "                continue\n",
    "\n",
    "            corners.append(box.bottom_corners())\n",
    "        \n",
    "        if len(corners) > 0:\n",
    "            return np.transpose(np.array(corners), (0, 2, 1))\n",
    "        else:\n",
    "            return np.zeros((1, 4, 3))\n",
    "    \n",
    "    def points_in_box(self, coordinates, bounding_box_corners):\n",
    "        \"\"\"\n",
    "            bounding_box_corners: bbc of a single bb\n",
    "            return a mask of whether points that are in the box\n",
    "        \"\"\"\n",
    "        coords_x = coordinates[0]\n",
    "        coords_y = coordinates[1]\n",
    "        \n",
    "        min_bb_x = bounding_box_corners[:, 0].min()\n",
    "        max_bb_x = bounding_box_corners[:, 0].max()\n",
    "        min_bb_y = bounding_box_corners[:, 1].min()\n",
    "        max_bb_y = bounding_box_corners[:, 1].max()\n",
    "\n",
    "        c1 = min_bb_x <= coords_x  # left_top/left_bottom.x <= coordinate.x\n",
    "        c2 = max_bb_x >= coords_x  # right_bottom/right_top.x >= coordinate.x\n",
    "        c3 = min_bb_y <= coords_y  # left/right_bottom.y <= coordinate.y\n",
    "        c4 = max_bb_y >= coords_y  # right_top/left_top.y >= coordinate.y\n",
    "\n",
    "        c = np.logical_and(np.logical_and(c1, c2),\n",
    "                           np.logical_and(c3, c4))\n",
    "        return c\n",
    "    \n",
    "    def get_bb_targets(self, idx, bounding_box_corners):\n",
    "        coordinates = self.point_clouds_features[idx][:2] \n",
    "    \n",
    "        for bb_c in bounding_box_corners:\n",
    "\n",
    "            if self.points_in_box(coordinates, bb_c).any():\n",
    "                return np.array(bb_c[:, :2])\n",
    "            \n",
    "            else:\n",
    "                return np.zeros_like(bb_c[:, :2])\n",
    "    \n",
    "    def __getitem__(self, idx, compute_boxes=True):\n",
    "        \"\"\"\n",
    "        compute_box will be set to False in child classes, so target boxes are computed after rotations\n",
    "        \n",
    "        \"\"\"\n",
    "        \n",
    "        sample_idx = self.samples[idx]\n",
    "        pcl_features = self.point_clouds_features[idx]\n",
    "        pcl_labels = self.point_clouds_labels[idx]\n",
    "        \n",
    "        if compute_boxes:\n",
    "            front_bbs = self.get_front_bb(sample_idx)\n",
    "            target_bounding_boxes = self.get_bb_targets(idx, front_bbs)\n",
    "    \n",
    "            return pcl_features, pcl_labels, target_bounding_boxes\n",
    "        \n",
    "        else:\n",
    "            return pcl_features, pcl_labels, []"
   ]
  },
  {
   "cell_type": "code",
   "execution_count": 3,
   "id": "cf601d06",
   "metadata": {},
   "outputs": [],
   "source": [
    "class NuscenesRangeViewDataset(NuscenesDataset):\n",
    "\n",
    "    def __init__(self, data_root, n=None):\n",
    "        super().__init__(data_root, n)\n",
    "        \n",
    "            \n",
    "    def __len__(self):\n",
    "        return len(self.samples)\n",
    "    \n",
    "    def get_bb_targets(self, range_view_coordinates, bounding_box_corners):\n",
    "        bbc_target = np.zeros((4, 2, RV_WIDTH, RV_HEIGHT))\n",
    "                \n",
    "        for bbc in bounding_box_corners:\n",
    "            point_mask = self.points_in_box(range_view_coordinates, bbc)\n",
    "            bbc_target[:, :, point_mask] = np.expand_dims(bbc, 2)\n",
    "            \n",
    "        return bbc_target.reshape((8, RV_WIDTH, RV_HEIGHT))\n",
    "        \n",
    "        \n",
    "    def __getitem__(self, idx):\n",
    "        pcl_features, pcl_targets, _ = super().__getitem__(idx, compute_boxes=False)\n",
    "        \n",
    "        rotate_prob = np.random.uniform()\n",
    "        \n",
    "#         if rotate_prob > 0.5:\n",
    "#             rotation_angle_y = np.random.uniform(10, 90)\n",
    "\n",
    "#             rotation = RandomRotation((0, rotation_angle_y))\n",
    "#             print(\"0\", pcl_features[:, :2].shape)\n",
    "#             pcl_features[:, :2] = pcl_features[:, :2] @ rotation_matrix(torch.Tensor([rotation_angle_y])).cpu().numpy()\n",
    "#             print(\"1\", pcl_features[:, :2].shape)\n",
    "            \n",
    "        range_view, targets = pcl_to_rangeview(pcl_features, pcl_targets)\n",
    "        \n",
    "        range_view = range_view.transpose(2, 1, 0)\n",
    "        targets = targets.transpose(2, 1, 0)\n",
    "        \n",
    "        front_bbs = self.get_front_bb(self.samples[idx])[:, :, :2]  # N x 4 x 2 since we only need xy\n",
    "        target_bounding_boxes = self.get_bb_targets(range_view[:2], front_bbs)\n",
    "    \n",
    "        return torch.Tensor(range_view.copy()), torch.Tensor(targets.copy()), torch.Tensor(target_bounding_boxes.copy())"
   ]
  },
  {
   "cell_type": "code",
   "execution_count": 4,
   "id": "49f7f903",
   "metadata": {},
   "outputs": [
    {
     "name": "stderr",
     "output_type": "stream",
     "text": [
      "<ipython-input-2-79e4882f6273>:48: VisibleDeprecationWarning: Creating an ndarray from ragged nested sequences (which is a list-or-tuple of lists-or-tuples-or ndarrays with different lengths or shapes) is deprecated. If you meant to do this, you must specify 'dtype=object' when creating the ndarray.\n",
      "  self.point_clouds_features = np.array(self.point_clouds_features)\n",
      "<ipython-input-2-79e4882f6273>:49: VisibleDeprecationWarning: Creating an ndarray from ragged nested sequences (which is a list-or-tuple of lists-or-tuples-or ndarrays with different lengths or shapes) is deprecated. If you meant to do this, you must specify 'dtype=object' when creating the ndarray.\n",
      "  self.point_clouds_labels = np.array(self.point_clouds_labels)\n"
     ]
    },
    {
     "name": "stdout",
     "output_type": "stream",
     "text": [
      "CPU times: user 111 ms, sys: 1.22 s, total: 1.33 s\n",
      "Wall time: 1.33 s\n"
     ]
    }
   ],
   "source": [
    "%%time\n",
    "train_dataset = NuscenesRangeViewDataset(data_root=DATASET_PATH, n=(0, 4000))\n",
    "val_dataset = NuscenesRangeViewDataset(data_root=DATASET_PATH, n=(4000, 5000))"
   ]
  },
  {
   "cell_type": "code",
   "execution_count": 5,
   "id": "ed81ac22",
   "metadata": {},
   "outputs": [],
   "source": [
    "train_dataloader = DataLoader(train_dataset, batch_size=64, num_workers=0)\n",
    "val_dataloader = DataLoader(val_dataset, batch_size=64, num_workers=0)"
   ]
  },
  {
   "cell_type": "markdown",
   "id": "2751840a",
   "metadata": {},
   "source": [
    "---"
   ]
  },
  {
   "cell_type": "markdown",
   "id": "a2b4ea39",
   "metadata": {},
   "source": [
    "## Training the model"
   ]
  },
  {
   "cell_type": "markdown",
   "id": "fbbf9341",
   "metadata": {},
   "source": [
    "1. For each point in the image, we use the focal loss $L_{prob}$ to learn the class probabilities $\\{p_c\\}_{c=1}^C$. The classification loss for the entire image is defined as follows \n",
    "$$\n",
    "L_{cls} = {1 \\over P} \\sum_i{L_{prob, i}}\n",
    "$$ \n",
    "where P is the number of points in the image\n",
    "\n",
    "2. For each point on an object, we learn the parameters of the object’s mixture model by first identifying which component best matches the ground truth\n",
    "$$\n",
    "k^* = \\arg \\min_k || \\hat b_k − b^{gt} ||\n",
    "$$\n",
    "where $\\hat b_k$ is the k-th mean component of the mixture model\n",
    "and $b^{gt}$ is the corresponding ground truth bounding box.\n",
    "\n",
    "3. Afterwards, we update the parameters of the $k^{*}$ component\n",
    "$$\n",
    "L_{box} = \\sum_n {1 \\over \\hat \\sigma_{k^*}} | \\hat b_{n, k} − b^{gt}_n | + \\log{\\hat \\sigma_{k^*}}\n",
    "$$\n",
    "\n",
    "\n",
    "4. Next, we update the mixture weights $\\{α_k\\}^K_{k=1}$ again using the multi-class cross entropy loss $L_{mix}$, where the positive label corresponds to the $k^*$ component\n",
    "\n",
    "5. The regression loss for the entire image is defined as follows:\n",
    "$$\n",
    "L_{reg} = {{1 \\over N} \\sum_i{L_{box, i} + \\lambda L_{mix, i} \\over n_i}}\n",
    "$$\n",
    "where $L_{box, i}$ and $L_{mix, i}$ are the losses for the $i$-th point in the image which is on an object, $n_i$ is the total number of points that lie on the same object as $i$, $N$ is the total instances of objects in the image, and $\\lambda$ is the relative weighting of the two losses.\n",
    "\n",
    "6. Final loss is \n",
    "\n",
    "$$\n",
    "L = L_{reg} + L_{cls}\n",
    "$$\n",
    "\n",
    "___!NOTE! In this experiment we do not model a distribution of BB, which is equivalent to having a single mixture component or  K=1. Meaning: we do not have $L_{mix}$, we skip step 2___"
   ]
  },
  {
   "cell_type": "markdown",
   "id": "cf82fe4e",
   "metadata": {},
   "source": [
    "---"
   ]
  },
  {
   "cell_type": "code",
   "execution_count": 8,
   "id": "1de15a83",
   "metadata": {
    "scrolled": false
   },
   "outputs": [
    {
     "name": "stderr",
     "output_type": "stream",
     "text": [
      "  0%|          | 0/2000 [00:00<?, ?it/s]\n",
      "  0%|          | 0/63 [00:00<?, ?it/s]\u001b[A\n",
      "  2%|▏         | 1/63 [00:11<11:56, 11.56s/it]\u001b[A\n",
      "  3%|▎         | 2/63 [00:23<11:52, 11.68s/it]\u001b[A\n",
      "  5%|▍         | 3/63 [00:35<11:57, 11.96s/it]\u001b[A\n",
      "  6%|▋         | 4/63 [00:47<11:51, 12.06s/it]\u001b[A\n",
      "  8%|▊         | 5/63 [00:59<11:29, 11.90s/it]\u001b[A\n",
      " 10%|▉         | 6/63 [01:10<11:09, 11.74s/it]\u001b[A\n",
      " 11%|█         | 7/63 [01:22<10:52, 11.65s/it]\u001b[A\n",
      " 13%|█▎        | 8/63 [01:33<10:33, 11.51s/it]\u001b[A\n",
      " 14%|█▍        | 9/63 [01:45<10:23, 11.54s/it]\u001b[A\n",
      " 16%|█▌        | 10/63 [01:56<10:13, 11.58s/it]\u001b[A\n",
      " 17%|█▋        | 11/63 [02:09<10:14, 11.83s/it]\u001b[A\n",
      " 19%|█▉        | 12/63 [02:21<10:13, 12.03s/it]\u001b[A\n",
      " 21%|██        | 13/63 [02:34<10:08, 12.17s/it]\u001b[A\n",
      " 22%|██▏       | 14/63 [02:46<09:56, 12.17s/it]\u001b[A\n",
      " 24%|██▍       | 15/63 [02:58<09:40, 12.10s/it]\u001b[A\n",
      " 25%|██▌       | 16/63 [03:10<09:31, 12.15s/it]\u001b[A\n",
      " 27%|██▋       | 17/63 [03:22<09:11, 11.99s/it]\u001b[A\n",
      " 29%|██▊       | 18/63 [03:34<09:05, 12.12s/it]\u001b[A\n",
      " 30%|███       | 19/63 [03:46<08:54, 12.15s/it]\u001b[A\n",
      " 32%|███▏      | 20/63 [03:58<08:32, 11.92s/it]\u001b[A\n",
      " 33%|███▎      | 21/63 [04:09<08:10, 11.69s/it]\u001b[A\n",
      " 35%|███▍      | 22/63 [04:20<07:56, 11.63s/it]\u001b[A\n",
      " 37%|███▋      | 23/63 [04:32<07:42, 11.56s/it]\u001b[A\n",
      " 38%|███▊      | 24/63 [04:43<07:26, 11.44s/it]\u001b[A\n",
      " 40%|███▉      | 25/63 [04:54<07:08, 11.28s/it]\u001b[A\n",
      " 41%|████▏     | 26/63 [05:05<06:58, 11.30s/it]\u001b[A\n",
      " 43%|████▎     | 27/63 [05:17<06:52, 11.47s/it]\u001b[A\n",
      " 44%|████▍     | 28/63 [05:29<06:44, 11.56s/it]\u001b[A\n",
      " 46%|████▌     | 29/63 [05:41<06:34, 11.62s/it]\u001b[A\n",
      " 48%|████▊     | 30/63 [05:52<06:22, 11.58s/it]\u001b[A\n",
      " 49%|████▉     | 31/63 [06:04<06:15, 11.72s/it]\u001b[A\n",
      " 51%|█████     | 32/63 [06:17<06:09, 11.93s/it]\u001b[A\n",
      " 52%|█████▏    | 33/63 [06:28<05:50, 11.67s/it]\u001b[A\n",
      " 54%|█████▍    | 34/63 [06:39<05:39, 11.70s/it]\u001b[A\n",
      " 56%|█████▌    | 35/63 [06:51<05:28, 11.75s/it]\u001b[A\n",
      " 57%|█████▋    | 36/63 [07:03<05:21, 11.90s/it]\u001b[A\n",
      " 59%|█████▊    | 37/63 [07:16<05:13, 12.07s/it]\u001b[A\n",
      " 60%|██████    | 38/63 [07:27<04:54, 11.78s/it]\u001b[A\n",
      " 62%|██████▏   | 39/63 [07:39<04:41, 11.72s/it]\u001b[A\n",
      " 63%|██████▎   | 40/63 [07:51<04:33, 11.87s/it]\u001b[A\n",
      " 65%|██████▌   | 41/63 [08:03<04:21, 11.87s/it]\u001b[A\n",
      " 67%|██████▋   | 42/63 [08:14<04:06, 11.76s/it]\u001b[A\n",
      " 68%|██████▊   | 43/63 [08:26<03:55, 11.79s/it]\u001b[A\n",
      " 70%|██████▉   | 44/63 [08:38<03:45, 11.86s/it]\u001b[A\n",
      " 71%|███████▏  | 45/63 [08:50<03:33, 11.85s/it]\u001b[A\n",
      " 73%|███████▎  | 46/63 [09:01<03:18, 11.70s/it]\u001b[A\n",
      " 75%|███████▍  | 47/63 [09:13<03:05, 11.59s/it]\u001b[A\n",
      " 76%|███████▌  | 48/63 [09:23<02:50, 11.35s/it]\u001b[A\n",
      " 78%|███████▊  | 49/63 [09:34<02:36, 11.16s/it]\u001b[A\n",
      " 79%|███████▉  | 50/63 [09:55<02:34, 11.91s/it]\u001b[A\n",
      "  0%|          | 0/2000 [09:55<?, ?it/s]\n"
     ]
    },
    {
     "ename": "RuntimeError",
     "evalue": "stack expects each tensor to be equal size, but got [7, 128, 32] at entry 0 and [32, 128, 32] at entry 10",
     "output_type": "error",
     "traceback": [
      "\u001b[0;31m---------------------------------------------------------------------------\u001b[0m",
      "\u001b[0;31mRuntimeError\u001b[0m                              Traceback (most recent call last)",
      "\u001b[0;32m<ipython-input-8-c2b2dfcd818d>\u001b[0m in \u001b[0;36m<module>\u001b[0;34m\u001b[0m\n\u001b[1;32m     15\u001b[0m \u001b[0mval_accs\u001b[0m \u001b[0;34m=\u001b[0m \u001b[0;34m[\u001b[0m\u001b[0;34m]\u001b[0m\u001b[0;34m\u001b[0m\u001b[0;34m\u001b[0m\u001b[0m\n\u001b[1;32m     16\u001b[0m \u001b[0;32mfor\u001b[0m \u001b[0mepoch\u001b[0m \u001b[0;32min\u001b[0m \u001b[0mtqdm\u001b[0m\u001b[0;34m(\u001b[0m\u001b[0mrange\u001b[0m\u001b[0;34m(\u001b[0m\u001b[0mEPOCHS\u001b[0m\u001b[0;34m)\u001b[0m\u001b[0;34m)\u001b[0m\u001b[0;34m:\u001b[0m\u001b[0;34m\u001b[0m\u001b[0;34m\u001b[0m\u001b[0m\n\u001b[0;32m---> 17\u001b[0;31m     \u001b[0;32mfor\u001b[0m \u001b[0mbatch_rv\u001b[0m\u001b[0;34m,\u001b[0m \u001b[0mbatch_labels\u001b[0m\u001b[0;34m,\u001b[0m \u001b[0mbatch_target_bbs\u001b[0m \u001b[0;32min\u001b[0m \u001b[0mtqdm\u001b[0m\u001b[0;34m(\u001b[0m\u001b[0mtrain_dataloader\u001b[0m\u001b[0;34m)\u001b[0m\u001b[0;34m:\u001b[0m\u001b[0;34m\u001b[0m\u001b[0;34m\u001b[0m\u001b[0m\n\u001b[0m\u001b[1;32m     18\u001b[0m \u001b[0;34m\u001b[0m\u001b[0m\n\u001b[1;32m     19\u001b[0m         \u001b[0mbatch_pointclass_preds\u001b[0m\u001b[0;34m,\u001b[0m \u001b[0mbatch_bb_param_preds\u001b[0m\u001b[0;34m,\u001b[0m \u001b[0mbatch_log_std_preds\u001b[0m \u001b[0;34m=\u001b[0m \u001b[0mlasernet\u001b[0m\u001b[0;34m(\u001b[0m\u001b[0mx\u001b[0m\u001b[0;34m=\u001b[0m\u001b[0mbatch_rv\u001b[0m\u001b[0;34m)\u001b[0m\u001b[0;34m\u001b[0m\u001b[0;34m\u001b[0m\u001b[0m\n",
      "\u001b[0;32m~/anaconda3/envs/thesis/lib/python3.9/site-packages/tqdm/std.py\u001b[0m in \u001b[0;36m__iter__\u001b[0;34m(self)\u001b[0m\n\u001b[1;32m   1176\u001b[0m \u001b[0;34m\u001b[0m\u001b[0m\n\u001b[1;32m   1177\u001b[0m         \u001b[0;32mtry\u001b[0m\u001b[0;34m:\u001b[0m\u001b[0;34m\u001b[0m\u001b[0;34m\u001b[0m\u001b[0m\n\u001b[0;32m-> 1178\u001b[0;31m             \u001b[0;32mfor\u001b[0m \u001b[0mobj\u001b[0m \u001b[0;32min\u001b[0m \u001b[0miterable\u001b[0m\u001b[0;34m:\u001b[0m\u001b[0;34m\u001b[0m\u001b[0;34m\u001b[0m\u001b[0m\n\u001b[0m\u001b[1;32m   1179\u001b[0m                 \u001b[0;32myield\u001b[0m \u001b[0mobj\u001b[0m\u001b[0;34m\u001b[0m\u001b[0;34m\u001b[0m\u001b[0m\n\u001b[1;32m   1180\u001b[0m                 \u001b[0;31m# Update and possibly print the progressbar.\u001b[0m\u001b[0;34m\u001b[0m\u001b[0;34m\u001b[0m\u001b[0;34m\u001b[0m\u001b[0m\n",
      "\u001b[0;32m~/anaconda3/envs/thesis/lib/python3.9/site-packages/torch/utils/data/dataloader.py\u001b[0m in \u001b[0;36m__next__\u001b[0;34m(self)\u001b[0m\n\u001b[1;32m    515\u001b[0m             \u001b[0;32mif\u001b[0m \u001b[0mself\u001b[0m\u001b[0;34m.\u001b[0m\u001b[0m_sampler_iter\u001b[0m \u001b[0;32mis\u001b[0m \u001b[0;32mNone\u001b[0m\u001b[0;34m:\u001b[0m\u001b[0;34m\u001b[0m\u001b[0;34m\u001b[0m\u001b[0m\n\u001b[1;32m    516\u001b[0m                 \u001b[0mself\u001b[0m\u001b[0;34m.\u001b[0m\u001b[0m_reset\u001b[0m\u001b[0;34m(\u001b[0m\u001b[0;34m)\u001b[0m\u001b[0;34m\u001b[0m\u001b[0;34m\u001b[0m\u001b[0m\n\u001b[0;32m--> 517\u001b[0;31m             \u001b[0mdata\u001b[0m \u001b[0;34m=\u001b[0m \u001b[0mself\u001b[0m\u001b[0;34m.\u001b[0m\u001b[0m_next_data\u001b[0m\u001b[0;34m(\u001b[0m\u001b[0;34m)\u001b[0m\u001b[0;34m\u001b[0m\u001b[0;34m\u001b[0m\u001b[0m\n\u001b[0m\u001b[1;32m    518\u001b[0m             \u001b[0mself\u001b[0m\u001b[0;34m.\u001b[0m\u001b[0m_num_yielded\u001b[0m \u001b[0;34m+=\u001b[0m \u001b[0;36m1\u001b[0m\u001b[0;34m\u001b[0m\u001b[0;34m\u001b[0m\u001b[0m\n\u001b[1;32m    519\u001b[0m             \u001b[0;32mif\u001b[0m \u001b[0mself\u001b[0m\u001b[0;34m.\u001b[0m\u001b[0m_dataset_kind\u001b[0m \u001b[0;34m==\u001b[0m \u001b[0m_DatasetKind\u001b[0m\u001b[0;34m.\u001b[0m\u001b[0mIterable\u001b[0m \u001b[0;32mand\u001b[0m\u001b[0;31m \u001b[0m\u001b[0;31m\\\u001b[0m\u001b[0;34m\u001b[0m\u001b[0;34m\u001b[0m\u001b[0m\n",
      "\u001b[0;32m~/anaconda3/envs/thesis/lib/python3.9/site-packages/torch/utils/data/dataloader.py\u001b[0m in \u001b[0;36m_next_data\u001b[0;34m(self)\u001b[0m\n\u001b[1;32m    555\u001b[0m     \u001b[0;32mdef\u001b[0m \u001b[0m_next_data\u001b[0m\u001b[0;34m(\u001b[0m\u001b[0mself\u001b[0m\u001b[0;34m)\u001b[0m\u001b[0;34m:\u001b[0m\u001b[0;34m\u001b[0m\u001b[0;34m\u001b[0m\u001b[0m\n\u001b[1;32m    556\u001b[0m         \u001b[0mindex\u001b[0m \u001b[0;34m=\u001b[0m \u001b[0mself\u001b[0m\u001b[0;34m.\u001b[0m\u001b[0m_next_index\u001b[0m\u001b[0;34m(\u001b[0m\u001b[0;34m)\u001b[0m  \u001b[0;31m# may raise StopIteration\u001b[0m\u001b[0;34m\u001b[0m\u001b[0;34m\u001b[0m\u001b[0m\n\u001b[0;32m--> 557\u001b[0;31m         \u001b[0mdata\u001b[0m \u001b[0;34m=\u001b[0m \u001b[0mself\u001b[0m\u001b[0;34m.\u001b[0m\u001b[0m_dataset_fetcher\u001b[0m\u001b[0;34m.\u001b[0m\u001b[0mfetch\u001b[0m\u001b[0;34m(\u001b[0m\u001b[0mindex\u001b[0m\u001b[0;34m)\u001b[0m  \u001b[0;31m# may raise StopIteration\u001b[0m\u001b[0;34m\u001b[0m\u001b[0;34m\u001b[0m\u001b[0m\n\u001b[0m\u001b[1;32m    558\u001b[0m         \u001b[0;32mif\u001b[0m \u001b[0mself\u001b[0m\u001b[0;34m.\u001b[0m\u001b[0m_pin_memory\u001b[0m\u001b[0;34m:\u001b[0m\u001b[0;34m\u001b[0m\u001b[0;34m\u001b[0m\u001b[0m\n\u001b[1;32m    559\u001b[0m             \u001b[0mdata\u001b[0m \u001b[0;34m=\u001b[0m \u001b[0m_utils\u001b[0m\u001b[0;34m.\u001b[0m\u001b[0mpin_memory\u001b[0m\u001b[0;34m.\u001b[0m\u001b[0mpin_memory\u001b[0m\u001b[0;34m(\u001b[0m\u001b[0mdata\u001b[0m\u001b[0;34m)\u001b[0m\u001b[0;34m\u001b[0m\u001b[0;34m\u001b[0m\u001b[0m\n",
      "\u001b[0;32m~/anaconda3/envs/thesis/lib/python3.9/site-packages/torch/utils/data/_utils/fetch.py\u001b[0m in \u001b[0;36mfetch\u001b[0;34m(self, possibly_batched_index)\u001b[0m\n\u001b[1;32m     45\u001b[0m         \u001b[0;32melse\u001b[0m\u001b[0;34m:\u001b[0m\u001b[0;34m\u001b[0m\u001b[0;34m\u001b[0m\u001b[0m\n\u001b[1;32m     46\u001b[0m             \u001b[0mdata\u001b[0m \u001b[0;34m=\u001b[0m \u001b[0mself\u001b[0m\u001b[0;34m.\u001b[0m\u001b[0mdataset\u001b[0m\u001b[0;34m[\u001b[0m\u001b[0mpossibly_batched_index\u001b[0m\u001b[0;34m]\u001b[0m\u001b[0;34m\u001b[0m\u001b[0;34m\u001b[0m\u001b[0m\n\u001b[0;32m---> 47\u001b[0;31m         \u001b[0;32mreturn\u001b[0m \u001b[0mself\u001b[0m\u001b[0;34m.\u001b[0m\u001b[0mcollate_fn\u001b[0m\u001b[0;34m(\u001b[0m\u001b[0mdata\u001b[0m\u001b[0;34m)\u001b[0m\u001b[0;34m\u001b[0m\u001b[0;34m\u001b[0m\u001b[0m\n\u001b[0m",
      "\u001b[0;32m~/anaconda3/envs/thesis/lib/python3.9/site-packages/torch/utils/data/_utils/collate.py\u001b[0m in \u001b[0;36mdefault_collate\u001b[0;34m(batch)\u001b[0m\n\u001b[1;32m     81\u001b[0m             \u001b[0;32mraise\u001b[0m \u001b[0mRuntimeError\u001b[0m\u001b[0;34m(\u001b[0m\u001b[0;34m'each element in list of batch should be of equal size'\u001b[0m\u001b[0;34m)\u001b[0m\u001b[0;34m\u001b[0m\u001b[0;34m\u001b[0m\u001b[0m\n\u001b[1;32m     82\u001b[0m         \u001b[0mtransposed\u001b[0m \u001b[0;34m=\u001b[0m \u001b[0mzip\u001b[0m\u001b[0;34m(\u001b[0m\u001b[0;34m*\u001b[0m\u001b[0mbatch\u001b[0m\u001b[0;34m)\u001b[0m\u001b[0;34m\u001b[0m\u001b[0;34m\u001b[0m\u001b[0m\n\u001b[0;32m---> 83\u001b[0;31m         \u001b[0;32mreturn\u001b[0m \u001b[0;34m[\u001b[0m\u001b[0mdefault_collate\u001b[0m\u001b[0;34m(\u001b[0m\u001b[0msamples\u001b[0m\u001b[0;34m)\u001b[0m \u001b[0;32mfor\u001b[0m \u001b[0msamples\u001b[0m \u001b[0;32min\u001b[0m \u001b[0mtransposed\u001b[0m\u001b[0;34m]\u001b[0m\u001b[0;34m\u001b[0m\u001b[0;34m\u001b[0m\u001b[0m\n\u001b[0m\u001b[1;32m     84\u001b[0m \u001b[0;34m\u001b[0m\u001b[0m\n\u001b[1;32m     85\u001b[0m     \u001b[0;32mraise\u001b[0m \u001b[0mTypeError\u001b[0m\u001b[0;34m(\u001b[0m\u001b[0mdefault_collate_err_msg_format\u001b[0m\u001b[0;34m.\u001b[0m\u001b[0mformat\u001b[0m\u001b[0;34m(\u001b[0m\u001b[0melem_type\u001b[0m\u001b[0;34m)\u001b[0m\u001b[0;34m)\u001b[0m\u001b[0;34m\u001b[0m\u001b[0;34m\u001b[0m\u001b[0m\n",
      "\u001b[0;32m~/anaconda3/envs/thesis/lib/python3.9/site-packages/torch/utils/data/_utils/collate.py\u001b[0m in \u001b[0;36m<listcomp>\u001b[0;34m(.0)\u001b[0m\n\u001b[1;32m     81\u001b[0m             \u001b[0;32mraise\u001b[0m \u001b[0mRuntimeError\u001b[0m\u001b[0;34m(\u001b[0m\u001b[0;34m'each element in list of batch should be of equal size'\u001b[0m\u001b[0;34m)\u001b[0m\u001b[0;34m\u001b[0m\u001b[0;34m\u001b[0m\u001b[0m\n\u001b[1;32m     82\u001b[0m         \u001b[0mtransposed\u001b[0m \u001b[0;34m=\u001b[0m \u001b[0mzip\u001b[0m\u001b[0;34m(\u001b[0m\u001b[0;34m*\u001b[0m\u001b[0mbatch\u001b[0m\u001b[0;34m)\u001b[0m\u001b[0;34m\u001b[0m\u001b[0;34m\u001b[0m\u001b[0m\n\u001b[0;32m---> 83\u001b[0;31m         \u001b[0;32mreturn\u001b[0m \u001b[0;34m[\u001b[0m\u001b[0mdefault_collate\u001b[0m\u001b[0;34m(\u001b[0m\u001b[0msamples\u001b[0m\u001b[0;34m)\u001b[0m \u001b[0;32mfor\u001b[0m \u001b[0msamples\u001b[0m \u001b[0;32min\u001b[0m \u001b[0mtransposed\u001b[0m\u001b[0;34m]\u001b[0m\u001b[0;34m\u001b[0m\u001b[0;34m\u001b[0m\u001b[0m\n\u001b[0m\u001b[1;32m     84\u001b[0m \u001b[0;34m\u001b[0m\u001b[0m\n\u001b[1;32m     85\u001b[0m     \u001b[0;32mraise\u001b[0m \u001b[0mTypeError\u001b[0m\u001b[0;34m(\u001b[0m\u001b[0mdefault_collate_err_msg_format\u001b[0m\u001b[0;34m.\u001b[0m\u001b[0mformat\u001b[0m\u001b[0;34m(\u001b[0m\u001b[0melem_type\u001b[0m\u001b[0;34m)\u001b[0m\u001b[0;34m)\u001b[0m\u001b[0;34m\u001b[0m\u001b[0;34m\u001b[0m\u001b[0m\n",
      "\u001b[0;32m~/anaconda3/envs/thesis/lib/python3.9/site-packages/torch/utils/data/_utils/collate.py\u001b[0m in \u001b[0;36mdefault_collate\u001b[0;34m(batch)\u001b[0m\n\u001b[1;32m     53\u001b[0m             \u001b[0mstorage\u001b[0m \u001b[0;34m=\u001b[0m \u001b[0melem\u001b[0m\u001b[0;34m.\u001b[0m\u001b[0mstorage\u001b[0m\u001b[0;34m(\u001b[0m\u001b[0;34m)\u001b[0m\u001b[0;34m.\u001b[0m\u001b[0m_new_shared\u001b[0m\u001b[0;34m(\u001b[0m\u001b[0mnumel\u001b[0m\u001b[0;34m)\u001b[0m\u001b[0;34m\u001b[0m\u001b[0;34m\u001b[0m\u001b[0m\n\u001b[1;32m     54\u001b[0m             \u001b[0mout\u001b[0m \u001b[0;34m=\u001b[0m \u001b[0melem\u001b[0m\u001b[0;34m.\u001b[0m\u001b[0mnew\u001b[0m\u001b[0;34m(\u001b[0m\u001b[0mstorage\u001b[0m\u001b[0;34m)\u001b[0m\u001b[0;34m\u001b[0m\u001b[0;34m\u001b[0m\u001b[0m\n\u001b[0;32m---> 55\u001b[0;31m         \u001b[0;32mreturn\u001b[0m \u001b[0mtorch\u001b[0m\u001b[0;34m.\u001b[0m\u001b[0mstack\u001b[0m\u001b[0;34m(\u001b[0m\u001b[0mbatch\u001b[0m\u001b[0;34m,\u001b[0m \u001b[0;36m0\u001b[0m\u001b[0;34m,\u001b[0m \u001b[0mout\u001b[0m\u001b[0;34m=\u001b[0m\u001b[0mout\u001b[0m\u001b[0;34m)\u001b[0m\u001b[0;34m\u001b[0m\u001b[0;34m\u001b[0m\u001b[0m\n\u001b[0m\u001b[1;32m     56\u001b[0m     \u001b[0;32melif\u001b[0m \u001b[0melem_type\u001b[0m\u001b[0;34m.\u001b[0m\u001b[0m__module__\u001b[0m \u001b[0;34m==\u001b[0m \u001b[0;34m'numpy'\u001b[0m \u001b[0;32mand\u001b[0m \u001b[0melem_type\u001b[0m\u001b[0;34m.\u001b[0m\u001b[0m__name__\u001b[0m \u001b[0;34m!=\u001b[0m \u001b[0;34m'str_'\u001b[0m\u001b[0;31m \u001b[0m\u001b[0;31m\\\u001b[0m\u001b[0;34m\u001b[0m\u001b[0;34m\u001b[0m\u001b[0m\n\u001b[1;32m     57\u001b[0m             \u001b[0;32mand\u001b[0m \u001b[0melem_type\u001b[0m\u001b[0;34m.\u001b[0m\u001b[0m__name__\u001b[0m \u001b[0;34m!=\u001b[0m \u001b[0;34m'string_'\u001b[0m\u001b[0;34m:\u001b[0m\u001b[0;34m\u001b[0m\u001b[0;34m\u001b[0m\u001b[0m\n",
      "\u001b[0;31mRuntimeError\u001b[0m: stack expects each tensor to be equal size, but got [7, 128, 32] at entry 0 and [32, 128, 32] at entry 10"
     ]
    }
   ],
   "source": [
    "EPOCHS = 2000\n",
    "\n",
    "lasernet = torch.nn.DataParallel(LaserNet(), device_ids=[0, 1])\n",
    "loss = LaserNetLoss(focal_loss_reduction='mean')\n",
    "optimizer = torch.optim.Adam(lasernet.parameters(), lr=0.000001)\n",
    "\n",
    "lasernet.zero_grad()\n",
    "loss.zero_grad()\n",
    "optimizer.zero_grad()\n",
    "\n",
    "train_losses = []\n",
    "train_accs = []\n",
    "\n",
    "val_losses = []\n",
    "val_accs = []\n",
    "for epoch in tqdm(range(EPOCHS)):\n",
    "    for batch_rv, batch_labels, batch_target_bbs in tqdm(train_dataloader):\n",
    "        \n",
    "        batch_pointclass_preds, batch_bb_param_preds, batch_log_std_preds = lasernet(x=batch_rv)\n",
    "        \n",
    "        batch_logstd = torch.log(torch.std(batch_bb_param_preds, axis=(1, 2, 3)))        \n",
    "        \n",
    "        L_train = loss(batch_pointclass_preds, batch_bb_param_preds, batch_log_std_preds,\n",
    "                 batch_labels,           batch_target_bbs)\n",
    "        \n",
    "        train_losses.append(L_train.item())\n",
    "        \n",
    "        lasernet.zero_grad()\n",
    "        L_train.backward()\n",
    "        optimizer.step()\n",
    "        \n",
    "    \n",
    "    with torch.no_grad():\n",
    "        for batch_rv, batch_labels, batch_target_bbs in val_dataloader:\n",
    "            batch_pointclass_preds, batch_bb_param_preds, batch_log_std_preds = lasernet(x=batch_rv)\n",
    "            \n",
    "            L_val = loss(batch_pointclass_preds, batch_bb_param_preds, batch_log_std_preds,\n",
    "                         batch_labels,           batch_target_bbs)\n",
    "        \n",
    "            val_losses.append(L_val.item())\n",
    "            \n",
    "    if epoch % 7 == 0:\n",
    "        torch.save(lasernet, f'lasernet-d2k-b64-e{epoch}-adam-lre6')\n",
    "        print(epoch, \"train_loss\", L_train.item(), \"val_loss\", L_val.item())\n",
    "        "
   ]
  },
  {
   "cell_type": "code",
   "execution_count": 14,
   "id": "f89496af",
   "metadata": {},
   "outputs": [
    {
     "data": {
      "text/plain": [
       "[<matplotlib.lines.Line2D at 0x7f336a0c2190>]"
      ]
     },
     "execution_count": 14,
     "metadata": {},
     "output_type": "execute_result"
    },
    {
     "data": {
      "image/png": "[encoded data removed]",
      "text/plain": [
       "<Figure size 432x288 with 1 Axes>"
      ]
     },
     "metadata": {
      "needs_background": "light"
     },
     "output_type": "display_data"
    }
   ],
   "source": [
    "plt.plot(train_losses)"
   ]
  },
  {
   "cell_type": "code",
   "execution_count": 16,
   "id": "621a589b",
   "metadata": {},
   "outputs": [
    {
     "data": {
      "text/plain": [
       "[]"
      ]
     },
     "execution_count": 16,
     "metadata": {},
     "output_type": "execute_result"
    }
   ],
   "source": [
    "val_losses"
   ]
  },
  {
   "cell_type": "code",
   "execution_count": null,
   "id": "5dc73af4",
   "metadata": {},
   "outputs": [],
   "source": [
    "#         rv_example = batch_rv[7]\n",
    "#         bb_corners_targets_example = batch_target_bbs[7]\n",
    "        \n",
    "#         _, bb_w, bb_h = np.nonzero(bb_corners_targets_example).T\n",
    "#         bb_w, bb_h = np.unique(bb_w.cpu()), np.unique(bb_h.cpu())\n",
    "#         fig = go.Figure(data=[go.Scatter3d(x=rv_example[0].cpu().flatten(),\n",
    "#                                            y=rv_example[1].cpu().flatten(),\n",
    "#                                            z=np.zeros_like(rv_example[2].cpu().flatten()),\n",
    "#                                            mode='markers',\n",
    "#                                            marker=dict(size=2))])\n",
    "\n",
    "#         for wi in np.unique(bb_w):\n",
    "#             for he in np.unique(bb_h):\n",
    "#                 x = bb_corners_targets_example[::2, wi, he]\n",
    "#                 y = bb_corners_targets_example[1::2, wi, he]\n",
    "\n",
    "#                 fig.add_mesh3d(x=x.cpu(), \n",
    "#                                y=y.cpu(),\n",
    "#                                z=np.zeros_like(x.cpu()))\n",
    "\n",
    "#         fig.show()"
   ]
  },
  {
   "cell_type": "code",
   "execution_count": null,
   "id": "cd3fa425",
   "metadata": {},
   "outputs": [],
   "source": []
  }
 ],
 "metadata": {
  "kernelspec": {
   "display_name": "Python 3",
   "language": "python",
   "name": "python3"
  },
  "language_info": {
   "codemirror_mode": {
    "name": "ipython",
    "version": 3
   },
   "file_extension": ".py",
   "mimetype": "text/x-python",
   "name": "python",
   "nbconvert_exporter": "python",
   "pygments_lexer": "ipython3",
   "version": "3.9.4"
  }
 },
 "nbformat": 4,
 "nbformat_minor": 5
}
