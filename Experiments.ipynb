{
 "cells": [
  {
   "cell_type": "code",
   "execution_count": 55,
   "id": "32498148",
   "metadata": {},
   "outputs": [
    {
     "ename": "RuntimeError",
     "evalue": "context has already been set",
     "output_type": "error",
     "traceback": [
      "\u001b[0;31m---------------------------------------------------------------------------\u001b[0m",
      "\u001b[0;31mRuntimeError\u001b[0m                              Traceback (most recent call last)",
      "\u001b[0;32m<ipython-input-55-65923392f4fe>\u001b[0m in \u001b[0;36m<module>\u001b[0;34m\u001b[0m\n\u001b[1;32m      5\u001b[0m \u001b[0;32mfrom\u001b[0m \u001b[0mtorchvision\u001b[0m\u001b[0;34m.\u001b[0m\u001b[0mtransforms\u001b[0m \u001b[0;32mimport\u001b[0m \u001b[0mRandomRotation\u001b[0m\u001b[0;34m\u001b[0m\u001b[0;34m\u001b[0m\u001b[0m\n\u001b[1;32m      6\u001b[0m \u001b[0;34m\u001b[0m\u001b[0m\n\u001b[0;32m----> 7\u001b[0;31m \u001b[0mtorch\u001b[0m\u001b[0;34m.\u001b[0m\u001b[0mmultiprocessing\u001b[0m\u001b[0;34m.\u001b[0m\u001b[0mset_start_method\u001b[0m\u001b[0;34m(\u001b[0m\u001b[0;34m'spawn'\u001b[0m\u001b[0;34m)\u001b[0m\u001b[0;34m\u001b[0m\u001b[0;34m\u001b[0m\u001b[0m\n\u001b[0m\u001b[1;32m      8\u001b[0m \u001b[0mtorch\u001b[0m\u001b[0;34m.\u001b[0m\u001b[0mset_default_tensor_type\u001b[0m\u001b[0;34m(\u001b[0m\u001b[0;34m'torch.cuda.FloatTensor'\u001b[0m\u001b[0;34m)\u001b[0m\u001b[0;34m\u001b[0m\u001b[0;34m\u001b[0m\u001b[0m\n\u001b[1;32m      9\u001b[0m \u001b[0;34m\u001b[0m\u001b[0m\n",
      "\u001b[0;32m~/anaconda3/envs/thesis/lib/python3.9/multiprocessing/context.py\u001b[0m in \u001b[0;36mset_start_method\u001b[0;34m(self, method, force)\u001b[0m\n\u001b[1;32m    241\u001b[0m     \u001b[0;32mdef\u001b[0m \u001b[0mset_start_method\u001b[0m\u001b[0;34m(\u001b[0m\u001b[0mself\u001b[0m\u001b[0;34m,\u001b[0m \u001b[0mmethod\u001b[0m\u001b[0;34m,\u001b[0m \u001b[0mforce\u001b[0m\u001b[0;34m=\u001b[0m\u001b[0;32mFalse\u001b[0m\u001b[0;34m)\u001b[0m\u001b[0;34m:\u001b[0m\u001b[0;34m\u001b[0m\u001b[0;34m\u001b[0m\u001b[0m\n\u001b[1;32m    242\u001b[0m         \u001b[0;32mif\u001b[0m \u001b[0mself\u001b[0m\u001b[0;34m.\u001b[0m\u001b[0m_actual_context\u001b[0m \u001b[0;32mis\u001b[0m \u001b[0;32mnot\u001b[0m \u001b[0;32mNone\u001b[0m \u001b[0;32mand\u001b[0m \u001b[0;32mnot\u001b[0m \u001b[0mforce\u001b[0m\u001b[0;34m:\u001b[0m\u001b[0;34m\u001b[0m\u001b[0;34m\u001b[0m\u001b[0m\n\u001b[0;32m--> 243\u001b[0;31m             \u001b[0;32mraise\u001b[0m \u001b[0mRuntimeError\u001b[0m\u001b[0;34m(\u001b[0m\u001b[0;34m'context has already been set'\u001b[0m\u001b[0;34m)\u001b[0m\u001b[0;34m\u001b[0m\u001b[0;34m\u001b[0m\u001b[0m\n\u001b[0m\u001b[1;32m    244\u001b[0m         \u001b[0;32mif\u001b[0m \u001b[0mmethod\u001b[0m \u001b[0;32mis\u001b[0m \u001b[0;32mNone\u001b[0m \u001b[0;32mand\u001b[0m \u001b[0mforce\u001b[0m\u001b[0;34m:\u001b[0m\u001b[0;34m\u001b[0m\u001b[0;34m\u001b[0m\u001b[0m\n\u001b[1;32m    245\u001b[0m             \u001b[0mself\u001b[0m\u001b[0;34m.\u001b[0m\u001b[0m_actual_context\u001b[0m \u001b[0;34m=\u001b[0m \u001b[0;32mNone\u001b[0m\u001b[0;34m\u001b[0m\u001b[0;34m\u001b[0m\u001b[0m\n",
      "\u001b[0;31mRuntimeError\u001b[0m: context has already been set"
     ]
    }
   ],
   "source": [
    "import torch\n",
    "import torch.nn as nn\n",
    "import torch.nn.functional as F\n",
    "from torch.utils.data import Dataset, DataLoader\n",
    "from torchvision.transforms import RandomRotation\n",
    "\n",
    "torch.multiprocessing.set_start_method('spawn')\n",
    "torch.set_default_tensor_type('torch.cuda.FloatTensor')\n",
    "\n",
    "from pyquaternion import Quaternion\n",
    "import numpy as np\n",
    "import matplotlib.pyplot as plt\n",
    "import pandas as pd\n",
    "import plotly.graph_objects as go\n",
    "\n",
    "from tqdm import tqdm\n",
    "\n",
    "from src.preprocess import sample_to_rangeview, pcl_to_rangeview\n",
    "from src.utils import rotation_matrix\n",
    "from src.settings import DATASET_PATH, LABEL_NUMBER, RV_WIDTH, RV_HEIGHT, NUSCENES\n",
    "from src.datasets import NuscenesRangeViewDataset\n",
    "from src.models.lasernet import LaserNet\n",
    "from src.losses import LaserNetLoss"
   ]
  },
  {
   "cell_type": "markdown",
   "id": "b1f45ae0",
   "metadata": {},
   "source": [
    "---"
   ]
  },
  {
   "cell_type": "markdown",
   "id": "a1147b71",
   "metadata": {},
   "source": [
    "## Training data "
   ]
  },
  {
   "cell_type": "markdown",
   "id": "5ceb87cf",
   "metadata": {},
   "source": [
    "- ___Classification___ task includes semantic segmentation. We predict class labels for each point (cell) in the Range View. If a cell in RV gets a class C, we extrapolate that all points (which fell into that cell during the transformation to RV) get the same label.\n",
    "- ___Regression___ task includes BB regression and mixture parameter tuning"
   ]
  },
  {
   "cell_type": "markdown",
   "id": "960503db",
   "metadata": {},
   "source": [
    "so a single training example consists of: \n",
    "\n",
    "- __$X$__: range_view image | __5 x W x H__\n",
    "\n",
    "\n",
    "- __$Y_{image}$:__ | __C x W x H__, where C - number of classes\n",
    "\n",
    "\n",
    "- __$Y_{bb}$:__ $\\{\\{b_{m,1}, b_{m,2}, b_{m,3}, b_{m,4}\\}, ..., \\}_m^M$ | __M x 4 x 2 x W x H__ | where M is the number of bounding boxes in the image, $b_{m, j} \\in R ^2$ is the absolute coordinate of $m$-th bounding box's $j$-th corner\n",
    "\n",
    "- __$Y_{logstd}$:__ $\\log(\\sigma)$ of the predicted bb coordinates| __scalar__\n",
    "    "
   ]
  },
  {
   "cell_type": "markdown",
   "id": "e2ea4c82",
   "metadata": {},
   "source": [
    "### DataSets, DataLoaders and Transforms"
   ]
  },
  {
   "cell_type": "code",
   "execution_count": 28,
   "id": "49f7f903",
   "metadata": {},
   "outputs": [
    {
     "name": "stdout",
     "output_type": "stream",
     "text": [
      "CPU times: user 0 ns, sys: 6.71 ms, total: 6.71 ms\n",
      "Wall time: 4.85 ms\n"
     ]
    },
    {
     "name": "stderr",
     "output_type": "stream",
     "text": [
      "/home/narekvslife/lidar-camera-fusion-detection/src/datasets.py:56: VisibleDeprecationWarning:\n",
      "\n",
      "Creating an ndarray from ragged nested sequences (which is a list-or-tuple of lists-or-tuples-or ndarrays with different lengths or shapes) is deprecated. If you meant to do this, you must specify 'dtype=object' when creating the ndarray.\n",
      "\n",
      "/home/narekvslife/lidar-camera-fusion-detection/src/datasets.py:57: VisibleDeprecationWarning:\n",
      "\n",
      "Creating an ndarray from ragged nested sequences (which is a list-or-tuple of lists-or-tuples-or ndarrays with different lengths or shapes) is deprecated. If you meant to do this, you must specify 'dtype=object' when creating the ndarray.\n",
      "\n"
     ]
    }
   ],
   "source": [
    "%%time\n",
    "train_dataset = NuscenesRangeViewDataset(data_root=DATASET_PATH, n=(0, 4))\n",
    "val_dataset = NuscenesRangeViewDataset(data_root=DATASET_PATH, n=(0, 4))"
   ]
  },
  {
   "cell_type": "code",
   "execution_count": 3,
   "id": "6f141738",
   "metadata": {},
   "outputs": [],
   "source": [
    "# %%time\n",
    "# train_dataset = NuscenesRangeViewDataset(data_root=DATASET_PATH, n=(0, 8064))\n",
    "# val_dataset = NuscenesRangeViewDataset(data_root=DATASET_PATH, n=(8064, 9152))"
   ]
  },
  {
   "cell_type": "code",
   "execution_count": 4,
   "id": "2337d6c8",
   "metadata": {},
   "outputs": [],
   "source": [
    "train_dataloader = DataLoader(train_dataset, batch_size=4, num_workers=0)\n",
    "val_dataloader = DataLoader(val_dataset, batch_size=4, num_workers=0)"
   ]
  },
  {
   "cell_type": "markdown",
   "id": "2751840a",
   "metadata": {},
   "source": [
    "---"
   ]
  },
  {
   "cell_type": "markdown",
   "id": "a2b4ea39",
   "metadata": {},
   "source": [
    "## Training the model"
   ]
  },
  {
   "cell_type": "markdown",
   "id": "fbbf9341",
   "metadata": {},
   "source": [
    "1. For each point in the image, we use the focal loss $L_{prob}$ to learn the class probabilities $\\{p_c\\}_{c=1}^C$. The classification loss for the entire image is defined as follows \n",
    "$$\n",
    "L_{cls} = {1 \\over P} \\sum_i{L_{prob, i}}\n",
    "$$ \n",
    "where P is the number of points in the image\n",
    "\n",
    "2. For each point on an object, we learn the parameters of the object’s mixture model by first identifying which component best matches the ground truth\n",
    "$$\n",
    "k^* = \\arg \\min_k || \\hat b_k − b^{gt} ||\n",
    "$$\n",
    "where $\\hat b_k$ is the k-th mean component of the mixture model\n",
    "and $b^{gt}$ is the corresponding ground truth bounding box.\n",
    "\n",
    "3. Afterwards, we update the parameters of the $k^{*}$ component\n",
    "$$\n",
    "L_{box} = \\sum_n {1 \\over \\hat \\sigma_{k^*}} | \\hat b_{n, k} − b^{gt}_n | + \\log{\\hat \\sigma_{k^*}}\n",
    "$$\n",
    "\n",
    "\n",
    "4. Next, we update the mixture weights $\\{α_k\\}^K_{k=1}$ again using the multi-class cross entropy loss $L_{mix}$, where the positive label corresponds to the $k^*$ component\n",
    "\n",
    "5. The regression loss for the entire image is defined as follows:\n",
    "$$\n",
    "L_{reg} = {{1 \\over N} \\sum_i{L_{box, i} + \\lambda L_{mix, i} \\over n_i}}\n",
    "$$\n",
    "where $L_{box, i}$ and $L_{mix, i}$ are the losses for the $i$-th point in the image which is on an object, $n_i$ is the total number of points that lie on the same object as $i$, $N$ is the total instances of objects in the image, and $\\lambda$ is the relative weighting of the two losses.\n",
    "\n",
    "6. Final loss is \n",
    "\n",
    "$$\n",
    "L = L_{reg} + L_{cls}\n",
    "$$\n",
    "\n",
    "___!NOTE! In this experiment we do not model a distribution of BB, which is equivalent to having a single mixture component or  K=1. Meaning: we do not have $L_{mix}$, we skip step 2___"
   ]
  },
  {
   "cell_type": "markdown",
   "id": "cf82fe4e",
   "metadata": {},
   "source": [
    "---"
   ]
  },
  {
   "cell_type": "code",
   "execution_count": 31,
   "id": "4b135755",
   "metadata": {},
   "outputs": [],
   "source": [
    "# bb_params = torch.Tensor([2, 2, torch.cos(), torch.sin(), 4, 4])\n",
    "# params_to_box_corners(bb_para):"
   ]
  },
  {
   "cell_type": "code",
   "execution_count": 51,
   "id": "8dbc7840",
   "metadata": {},
   "outputs": [],
   "source": [
    "import torch\n",
    "import torch.nn as nn\n",
    "\n",
    "# from src.utils import params_to_box_corners\n",
    "from src.settings import LABEL_NUMBER\n",
    "from src.models.dla import DeepLayerAggregation\n",
    "\n",
    "\n",
    "class LaserNet(nn.Module):\n",
    "\n",
    "    def __init__(self, num_classes: int = LABEL_NUMBER):\n",
    "        \"\"\"\n",
    "            LaserNet implementation from https://arxiv.org/pdf/1903.08701.pdf almost..\n",
    "\n",
    "            params:\n",
    "                num_classes - number of target classes\n",
    "        \"\"\"\n",
    "        super(LaserNet, self).__init__()\n",
    "\n",
    "        self.num_classes = num_classes\n",
    "\n",
    "        self.dla = DeepLayerAggregation()\n",
    "\n",
    "        self.classes = nn.Conv2d(128, self.num_classes, kernel_size=(1, 1))\n",
    "\n",
    "        # relative center (x, y), relative orientation (wx, wy) = (cos w, sin w), and dimensions l, w\n",
    "        # + one channel for each class label\n",
    "        self.bb_params = nn.Conv2d(in_channels=128,\n",
    "                                   out_channels=6,\n",
    "                                   kernel_size=(1, 1))\n",
    "        \n",
    "        self.log_stds = nn.Conv2d(in_channels=128, \n",
    "                                  out_channels=1,\n",
    "                                  kernel_size=(1, 1))\n",
    "\n",
    "\n",
    "    def forward(self, x: torch.Tensor) -> tuple:\n",
    "        \"\"\"\n",
    "            x - tensor of size (N, 7, width, height) with main features\n",
    "                7 for (x, y, height(z), intensity, aziumth, distance\n",
    "        \"\"\"\n",
    "        \n",
    "        coordinates = x[:, :2]\n",
    "        x_range_view = x[:, 2:]\n",
    "        \n",
    "        dla_out = self.dla(x_range_view)\n",
    "\n",
    "        class_preds = self.classes(dla_out)\n",
    "        bb_param_preds = self.bb_params(dla_out)\n",
    "        log_stds = self.log_stds(dla_out).squeeze()\n",
    "\n",
    "        # azimuth angle is feature [4] out of 5 channels\n",
    "        angles = x[:, 4, :, :]\n",
    "\n",
    "        # bb_preds is of size [N, 6, RV_WIDTH, RV_HEIGHT]\n",
    "        # for each point on the RV, and each mixture component K we predict 6 params of a bounding box\n",
    "        # these are relative to the camera frame, we need to turn them to absolute space\n",
    "        # and we want to get 4 box corners instead of 6 params\n",
    "        \n",
    "        bb_corners = params_to_box_corners(bb_param_preds,\n",
    "                                           coordinates,\n",
    "                                           angles)\n",
    "\n",
    "        return class_preds, bb_corners , log_stds"
   ]
  },
  {
   "cell_type": "code",
   "execution_count": 53,
   "id": "1de15a83",
   "metadata": {
    "scrolled": true
   },
   "outputs": [
    {
     "name": "stdout",
     "output_type": "stream",
     "text": [
      "|point_classification_loss| 4.270757675170898 |bounding_box_loss| 158.66476440429688\n",
      "0 train_loss 162.93553161621094 accuracy 0.9796142578125\n",
      "|point_classification_loss| 4.290427207946777 |bounding_box_loss| 109.76802062988281\n",
      "|point_classification_loss| 4.263059616088867 |bounding_box_loss| 111.22003173828125\n",
      "|point_classification_loss| 4.31219482421875 |bounding_box_loss| 117.88426208496094\n",
      "|point_classification_loss| 4.298478126525879 |bounding_box_loss| 116.96631622314453\n",
      "|point_classification_loss| 4.272068023681641 |bounding_box_loss| 95.0657958984375\n",
      "|point_classification_loss| 4.240034103393555 |bounding_box_loss| 94.97499084472656\n",
      "|point_classification_loss| 4.26149845123291 |bounding_box_loss| 90.53338623046875\n",
      "|point_classification_loss| 4.240355491638184 |bounding_box_loss| 82.03417205810547\n",
      "|point_classification_loss| 4.22678279876709 |bounding_box_loss| 76.18428039550781\n",
      "|point_classification_loss| 4.175296306610107 |bounding_box_loss| 86.37196350097656\n",
      "10 train_loss 90.54725646972656 accuracy 1.0498046875\n",
      "|point_classification_loss| 4.196978569030762 |bounding_box_loss| 79.40055847167969\n",
      "|point_classification_loss| 4.143222808837891 |bounding_box_loss| 80.2387924194336\n",
      "|point_classification_loss| 4.198989391326904 |bounding_box_loss| 76.36520385742188\n",
      "|point_classification_loss| 4.214179992675781 |bounding_box_loss| 69.98442077636719\n",
      "|point_classification_loss| 4.128848552703857 |bounding_box_loss| 74.45071411132812\n",
      "|point_classification_loss| 4.181887626647949 |bounding_box_loss| 69.2530746459961\n",
      "|point_classification_loss| 4.149115085601807 |bounding_box_loss| 64.19850158691406\n",
      "|point_classification_loss| 4.1171369552612305 |bounding_box_loss| 56.614505767822266\n",
      "|point_classification_loss| 4.111907958984375 |bounding_box_loss| 56.88271713256836\n",
      "|point_classification_loss| 4.090293884277344 |bounding_box_loss| 53.4273567199707\n",
      "20 train_loss 57.51765060424805 accuracy 1.0223388671875\n",
      "|point_classification_loss| 4.061866760253906 |bounding_box_loss| 57.404781341552734\n",
      "|point_classification_loss| 4.052641868591309 |bounding_box_loss| 52.00769805908203\n",
      "|point_classification_loss| 4.030406475067139 |bounding_box_loss| 62.13148880004883\n",
      "|point_classification_loss| 4.0338592529296875 |bounding_box_loss| 52.244224548339844\n",
      "|point_classification_loss| 4.038484573364258 |bounding_box_loss| 51.610511779785156\n",
      "|point_classification_loss| 4.008700847625732 |bounding_box_loss| 48.08488464355469\n",
      "|point_classification_loss| 3.9915943145751953 |bounding_box_loss| 55.27953338623047\n",
      "|point_classification_loss| 4.033967971801758 |bounding_box_loss| 45.53989028930664\n",
      "|point_classification_loss| 4.051149368286133 |bounding_box_loss| 42.2640380859375\n",
      "|point_classification_loss| 3.9412693977355957 |bounding_box_loss| 51.01278305053711\n",
      "30 train_loss 54.95405197143555 accuracy 1.007080078125\n",
      "|point_classification_loss| 3.960831642150879 |bounding_box_loss| 46.477317810058594\n",
      "|point_classification_loss| 3.9394540786743164 |bounding_box_loss| 43.015037536621094\n",
      "|point_classification_loss| 3.9793925285339355 |bounding_box_loss| 40.89595031738281\n",
      "|point_classification_loss| 3.956138849258423 |bounding_box_loss| 39.06763458251953\n",
      "|point_classification_loss| 3.995582103729248 |bounding_box_loss| 38.219783782958984\n",
      "|point_classification_loss| 3.9116897583007812 |bounding_box_loss| 36.3230094909668\n",
      "|point_classification_loss| 3.88269305229187 |bounding_box_loss| 37.56776428222656\n",
      "|point_classification_loss| 3.891174793243408 |bounding_box_loss| 36.845855712890625\n",
      "|point_classification_loss| 3.876307487487793 |bounding_box_loss| 34.93433380126953\n",
      "|point_classification_loss| 3.861955165863037 |bounding_box_loss| 35.07151794433594\n",
      "40 train_loss 38.933475494384766 accuracy 1.068115234375\n",
      "|point_classification_loss| 3.785405397415161 |bounding_box_loss| 34.55390930175781\n",
      "|point_classification_loss| 3.8111324310302734 |bounding_box_loss| 32.806182861328125\n",
      "|point_classification_loss| 3.8402414321899414 |bounding_box_loss| 28.01050567626953\n",
      "|point_classification_loss| 3.797299861907959 |bounding_box_loss| 30.11132049560547\n",
      "|point_classification_loss| 3.825774908065796 |bounding_box_loss| 30.600727081298828\n",
      "|point_classification_loss| 3.8055429458618164 |bounding_box_loss| 31.381540298461914\n",
      "|point_classification_loss| 3.7344417572021484 |bounding_box_loss| 27.153778076171875\n",
      "|point_classification_loss| 3.7746076583862305 |bounding_box_loss| 27.367095947265625\n",
      "|point_classification_loss| 3.777853488922119 |bounding_box_loss| 30.169326782226562\n",
      "|point_classification_loss| 3.723588466644287 |bounding_box_loss| 32.44914245605469\n",
      "50 train_loss 36.1727294921875 accuracy 0.9124755859375\n",
      "|point_classification_loss| 3.695089817047119 |bounding_box_loss| 35.543731689453125\n",
      "|point_classification_loss| 3.7574830055236816 |bounding_box_loss| 27.72747230529785\n",
      "|point_classification_loss| 3.7243635654449463 |bounding_box_loss| 29.99262237548828\n",
      "|point_classification_loss| 3.688398599624634 |bounding_box_loss| 26.082321166992188\n",
      "|point_classification_loss| 3.6695613861083984 |bounding_box_loss| 30.846595764160156\n",
      "|point_classification_loss| 3.732419490814209 |bounding_box_loss| 28.91620445251465\n",
      "|point_classification_loss| 3.6673812866210938 |bounding_box_loss| 29.566097259521484\n",
      "|point_classification_loss| 3.671441078186035 |bounding_box_loss| 29.644306182861328\n",
      "|point_classification_loss| 3.6277787685394287 |bounding_box_loss| 26.982906341552734\n",
      "|point_classification_loss| 3.652162551879883 |bounding_box_loss| 26.06014633178711\n",
      "60 train_loss 29.712308883666992 accuracy 1.07421875\n",
      "|point_classification_loss| 3.6443848609924316 |bounding_box_loss| 26.410980224609375\n",
      "|point_classification_loss| 3.6368095874786377 |bounding_box_loss| 24.72089385986328\n",
      "|point_classification_loss| 3.6160407066345215 |bounding_box_loss| 23.555641174316406\n",
      "|point_classification_loss| 3.5507407188415527 |bounding_box_loss| 24.781631469726562\n",
      "|point_classification_loss| 3.590333938598633 |bounding_box_loss| 28.298999786376953\n",
      "|point_classification_loss| 3.5674660205841064 |bounding_box_loss| 23.11758041381836\n",
      "|point_classification_loss| 3.5526537895202637 |bounding_box_loss| 23.176401138305664\n",
      "|point_classification_loss| 3.5237998962402344 |bounding_box_loss| 24.31189727783203\n",
      "|point_classification_loss| 3.5556888580322266 |bounding_box_loss| 26.440032958984375\n",
      "|point_classification_loss| 3.49997615814209 |bounding_box_loss| 25.691268920898438\n",
      "70 train_loss 29.191242218017578 accuracy 1.9378662109375\n",
      "|point_classification_loss| 3.5009102821350098 |bounding_box_loss| 25.200664520263672\n",
      "|point_classification_loss| 3.513723373413086 |bounding_box_loss| 23.492355346679688\n",
      "|point_classification_loss| 3.461515426635742 |bounding_box_loss| 24.66219711303711\n",
      "|point_classification_loss| 3.468057632446289 |bounding_box_loss| 24.835630416870117\n",
      "|point_classification_loss| 3.4217123985290527 |bounding_box_loss| 27.388442993164062\n",
      "|point_classification_loss| 3.4416391849517822 |bounding_box_loss| 24.654062271118164\n",
      "|point_classification_loss| 3.390143871307373 |bounding_box_loss| 24.223018646240234\n",
      "|point_classification_loss| 3.4273452758789062 |bounding_box_loss| 23.171703338623047\n",
      "|point_classification_loss| 3.419788122177124 |bounding_box_loss| 26.715862274169922\n",
      "|point_classification_loss| 3.386923313140869 |bounding_box_loss| 23.53296661376953\n",
      "80 train_loss 26.919891357421875 accuracy 1.9500732421875\n",
      "|point_classification_loss| 3.4456288814544678 |bounding_box_loss| 24.907360076904297\n",
      "|point_classification_loss| 3.357828140258789 |bounding_box_loss| 24.26122283935547\n",
      "|point_classification_loss| 3.3585286140441895 |bounding_box_loss| 25.172576904296875\n",
      "|point_classification_loss| 3.4166626930236816 |bounding_box_loss| 22.899982452392578\n",
      "|point_classification_loss| 3.3391757011413574 |bounding_box_loss| 23.177494049072266\n",
      "|point_classification_loss| 3.286308765411377 |bounding_box_loss| 23.342021942138672\n",
      "|point_classification_loss| 3.22621488571167 |bounding_box_loss| 23.010265350341797\n",
      "|point_classification_loss| 3.291599988937378 |bounding_box_loss| 23.206806182861328\n",
      "|point_classification_loss| 3.262392044067383 |bounding_box_loss| 24.024372100830078\n",
      "|point_classification_loss| 3.2601394653320312 |bounding_box_loss| 22.554668426513672\n",
      "90 train_loss 25.814807891845703 accuracy 3.40576171875\n"
     ]
    },
    {
     "name": "stdout",
     "output_type": "stream",
     "text": [
      "|point_classification_loss| 3.2515382766723633 |bounding_box_loss| 22.28485107421875\n",
      "|point_classification_loss| 3.259512424468994 |bounding_box_loss| 26.340774536132812\n",
      "|point_classification_loss| 3.2130327224731445 |bounding_box_loss| 22.952186584472656\n",
      "|point_classification_loss| 3.252664804458618 |bounding_box_loss| 22.96816635131836\n",
      "|point_classification_loss| 3.1627488136291504 |bounding_box_loss| 22.699405670166016\n",
      "|point_classification_loss| 3.1693286895751953 |bounding_box_loss| 21.9862003326416\n",
      "|point_classification_loss| 3.1791911125183105 |bounding_box_loss| 23.921180725097656\n",
      "|point_classification_loss| 3.1254708766937256 |bounding_box_loss| 22.127038955688477\n",
      "|point_classification_loss| 3.176210641860962 |bounding_box_loss| 23.267139434814453\n",
      "|point_classification_loss| 3.121664047241211 |bounding_box_loss| 24.919336318969727\n",
      "100 train_loss 28.041000366210938 accuracy 3.436279296875\n",
      "|point_classification_loss| 3.124523401260376 |bounding_box_loss| 24.439075469970703\n",
      "|point_classification_loss| 3.1360535621643066 |bounding_box_loss| 21.78171157836914\n",
      "|point_classification_loss| 3.1159067153930664 |bounding_box_loss| 23.168968200683594\n",
      "|point_classification_loss| 3.0627732276916504 |bounding_box_loss| 23.416658401489258\n",
      "|point_classification_loss| 3.131558656692505 |bounding_box_loss| 21.776962280273438\n",
      "|point_classification_loss| 3.0645828247070312 |bounding_box_loss| 22.497169494628906\n",
      "|point_classification_loss| 3.070554733276367 |bounding_box_loss| 23.00887680053711\n",
      "|point_classification_loss| 3.029761791229248 |bounding_box_loss| 24.806682586669922\n",
      "|point_classification_loss| 2.934220314025879 |bounding_box_loss| 22.35853385925293\n",
      "|point_classification_loss| 3.016697645187378 |bounding_box_loss| 22.514482498168945\n",
      "110 train_loss 25.531179428100586 accuracy 5.4168701171875\n",
      "|point_classification_loss| 3.065375804901123 |bounding_box_loss| 22.762697219848633\n",
      "|point_classification_loss| 3.047654151916504 |bounding_box_loss| 21.076881408691406\n",
      "|point_classification_loss| 2.908937454223633 |bounding_box_loss| 22.934917449951172\n",
      "|point_classification_loss| 2.9930672645568848 |bounding_box_loss| 22.965686798095703\n",
      "|point_classification_loss| 3.0132224559783936 |bounding_box_loss| 22.826602935791016\n",
      "|point_classification_loss| 2.9089694023132324 |bounding_box_loss| 22.090635299682617\n",
      "|point_classification_loss| 2.9839067459106445 |bounding_box_loss| 21.1961669921875\n",
      "|point_classification_loss| 2.925605058670044 |bounding_box_loss| 21.254926681518555\n",
      "|point_classification_loss| 2.964740753173828 |bounding_box_loss| 22.515155792236328\n",
      "|point_classification_loss| 2.9691123962402344 |bounding_box_loss| 23.020614624023438\n",
      "120 train_loss 25.989727020263672 accuracy 5.5755615234375\n",
      "|point_classification_loss| 2.9057297706604004 |bounding_box_loss| 21.659221649169922\n",
      "|point_classification_loss| 2.940673351287842 |bounding_box_loss| 21.954021453857422\n",
      "|point_classification_loss| 2.9231834411621094 |bounding_box_loss| 21.970130920410156\n",
      "|point_classification_loss| 2.955268144607544 |bounding_box_loss| 21.58085060119629\n",
      "|point_classification_loss| 2.9176602363586426 |bounding_box_loss| 22.61819076538086\n",
      "|point_classification_loss| 2.866999626159668 |bounding_box_loss| 22.620298385620117\n",
      "|point_classification_loss| 2.8862743377685547 |bounding_box_loss| 21.393272399902344\n",
      "|point_classification_loss| 2.8548460006713867 |bounding_box_loss| 22.232465744018555\n",
      "|point_classification_loss| 2.8620238304138184 |bounding_box_loss| 22.021331787109375\n",
      "|point_classification_loss| 2.8495986461639404 |bounding_box_loss| 21.674762725830078\n",
      "130 train_loss 24.524362564086914 accuracy 8.0963134765625\n",
      "|point_classification_loss| 2.8643813133239746 |bounding_box_loss| 21.738689422607422\n",
      "|point_classification_loss| 2.806865930557251 |bounding_box_loss| 20.41440773010254\n",
      "|point_classification_loss| 2.7692837715148926 |bounding_box_loss| 20.763601303100586\n",
      "|point_classification_loss| 2.7469356060028076 |bounding_box_loss| 21.664676666259766\n",
      "|point_classification_loss| 2.823585271835327 |bounding_box_loss| 20.992374420166016\n",
      "|point_classification_loss| 2.744276285171509 |bounding_box_loss| 20.440200805664062\n",
      "|point_classification_loss| 2.7786102294921875 |bounding_box_loss| 24.05972671508789\n",
      "|point_classification_loss| 2.7525086402893066 |bounding_box_loss| 20.615131378173828\n",
      "|point_classification_loss| 2.761958360671997 |bounding_box_loss| 21.81583023071289\n",
      "|point_classification_loss| 2.6755316257476807 |bounding_box_loss| 21.995588302612305\n",
      "140 train_loss 24.671119689941406 accuracy 11.9354248046875\n",
      "|point_classification_loss| 2.7608227729797363 |bounding_box_loss| 22.7860050201416\n",
      "|point_classification_loss| 2.7752671241760254 |bounding_box_loss| 21.480134963989258\n",
      "|point_classification_loss| 2.708249092102051 |bounding_box_loss| 20.949344635009766\n",
      "|point_classification_loss| 2.7121639251708984 |bounding_box_loss| 21.76422882080078\n",
      "|point_classification_loss| 2.771009922027588 |bounding_box_loss| 22.213237762451172\n",
      "|point_classification_loss| 2.7011232376098633 |bounding_box_loss| 21.776010513305664\n",
      "|point_classification_loss| 2.693275213241577 |bounding_box_loss| 21.186260223388672\n",
      "|point_classification_loss| 2.618162155151367 |bounding_box_loss| 22.708621978759766\n",
      "|point_classification_loss| 2.716888666152954 |bounding_box_loss| 22.366260528564453\n",
      "|point_classification_loss| 2.651994228363037 |bounding_box_loss| 21.793437957763672\n",
      "150 train_loss 24.445430755615234 accuracy 13.9556884765625\n",
      "|point_classification_loss| 2.684382438659668 |bounding_box_loss| 22.232070922851562\n",
      "|point_classification_loss| 2.653655529022217 |bounding_box_loss| 22.28766632080078\n",
      "|point_classification_loss| 2.616018772125244 |bounding_box_loss| 21.144672393798828\n",
      "|point_classification_loss| 2.645303964614868 |bounding_box_loss| 20.924009323120117\n",
      "|point_classification_loss| 2.6096394062042236 |bounding_box_loss| 21.32316780090332\n",
      "|point_classification_loss| 2.573239326477051 |bounding_box_loss| 21.269771575927734\n",
      "|point_classification_loss| 2.647660255432129 |bounding_box_loss| 20.39107322692871\n",
      "|point_classification_loss| 2.5586347579956055 |bounding_box_loss| 22.097713470458984\n",
      "|point_classification_loss| 2.625293254852295 |bounding_box_loss| 21.224159240722656\n",
      "|point_classification_loss| 2.598099946975708 |bounding_box_loss| 20.812334060668945\n",
      "160 train_loss 23.41043472290039 accuracy 16.021728515625\n",
      "|point_classification_loss| 2.590864419937134 |bounding_box_loss| 22.645538330078125\n",
      "|point_classification_loss| 2.522247314453125 |bounding_box_loss| 20.785175323486328\n",
      "|point_classification_loss| 2.52182674407959 |bounding_box_loss| 21.12944793701172\n",
      "|point_classification_loss| 2.571439504623413 |bounding_box_loss| 19.962890625\n",
      "|point_classification_loss| 2.516695022583008 |bounding_box_loss| 22.816604614257812\n",
      "|point_classification_loss| 2.5180163383483887 |bounding_box_loss| 21.189878463745117\n",
      "|point_classification_loss| 2.486401081085205 |bounding_box_loss| 21.123687744140625\n",
      "|point_classification_loss| 2.481933116912842 |bounding_box_loss| 21.58709144592285\n",
      "|point_classification_loss| 2.478322744369507 |bounding_box_loss| 21.738773345947266\n",
      "|point_classification_loss| 2.5245449542999268 |bounding_box_loss| 20.62135887145996\n",
      "170 train_loss 23.145904541015625 accuracy 16.6015625\n",
      "|point_classification_loss| 2.4470877647399902 |bounding_box_loss| 21.643539428710938\n",
      "|point_classification_loss| 2.5091686248779297 |bounding_box_loss| 21.467815399169922\n",
      "|point_classification_loss| 2.4617912769317627 |bounding_box_loss| 21.920608520507812\n",
      "|point_classification_loss| 2.4091639518737793 |bounding_box_loss| 19.75052261352539\n",
      "|point_classification_loss| 2.4357032775878906 |bounding_box_loss| 20.80963134765625\n",
      "|point_classification_loss| 2.4341611862182617 |bounding_box_loss| 21.090726852416992\n",
      "|point_classification_loss| 2.4618732929229736 |bounding_box_loss| 21.89999771118164\n",
      "|point_classification_loss| 2.413357734680176 |bounding_box_loss| 20.8920841217041\n",
      "|point_classification_loss| 2.422844886779785 |bounding_box_loss| 21.149497985839844\n",
      "|point_classification_loss| 2.3885560035705566 |bounding_box_loss| 21.778270721435547\n",
      "180 train_loss 24.166828155517578 accuracy 23.49853515625\n",
      "|point_classification_loss| 2.3826866149902344 |bounding_box_loss| 20.60368537902832\n"
     ]
    },
    {
     "name": "stdout",
     "output_type": "stream",
     "text": [
      "|point_classification_loss| 2.3774967193603516 |bounding_box_loss| 21.093198776245117\n",
      "|point_classification_loss| 2.3619327545166016 |bounding_box_loss| 21.06098175048828\n",
      "|point_classification_loss| 2.373023509979248 |bounding_box_loss| 21.30216407775879\n",
      "|point_classification_loss| 2.3537259101867676 |bounding_box_loss| 21.103065490722656\n",
      "|point_classification_loss| 2.397202491760254 |bounding_box_loss| 21.10202980041504\n",
      "|point_classification_loss| 2.4322166442871094 |bounding_box_loss| 20.416624069213867\n",
      "|point_classification_loss| 2.3387537002563477 |bounding_box_loss| 20.707366943359375\n",
      "|point_classification_loss| 2.344721794128418 |bounding_box_loss| 20.631961822509766\n",
      "|point_classification_loss| 2.3048081398010254 |bounding_box_loss| 20.92315673828125\n",
      "190 train_loss 23.227962493896484 accuracy 26.4129638671875\n",
      "|point_classification_loss| 2.286506175994873 |bounding_box_loss| 20.923818588256836\n",
      "|point_classification_loss| 2.311583995819092 |bounding_box_loss| 21.62224006652832\n",
      "|point_classification_loss| 2.2796905040740967 |bounding_box_loss| 20.33544921875\n",
      "|point_classification_loss| 2.295118808746338 |bounding_box_loss| 22.481264114379883\n",
      "|point_classification_loss| 2.2836194038391113 |bounding_box_loss| 20.475526809692383\n",
      "|point_classification_loss| 2.247252941131592 |bounding_box_loss| 23.407257080078125\n",
      "|point_classification_loss| 2.2983531951904297 |bounding_box_loss| 20.737857818603516\n",
      "|point_classification_loss| 2.2466020584106445 |bounding_box_loss| 21.64205551147461\n",
      "|point_classification_loss| 2.2844467163085938 |bounding_box_loss| 20.81869888305664\n",
      "|point_classification_loss| 2.240541458129883 |bounding_box_loss| 20.92711639404297\n",
      "200 train_loss 23.16765785217285 accuracy 28.240966796875\n",
      "|point_classification_loss| 2.232516050338745 |bounding_box_loss| 20.718830108642578\n",
      "|point_classification_loss| 2.2718558311462402 |bounding_box_loss| 21.369186401367188\n",
      "|point_classification_loss| 2.2166194915771484 |bounding_box_loss| 20.16320037841797\n",
      "|point_classification_loss| 2.250462532043457 |bounding_box_loss| 20.79584503173828\n",
      "|point_classification_loss| 2.1998631954193115 |bounding_box_loss| 20.43131446838379\n",
      "|point_classification_loss| 2.206326484680176 |bounding_box_loss| 21.380273818969727\n",
      "|point_classification_loss| 2.1854305267333984 |bounding_box_loss| 20.545032501220703\n",
      "|point_classification_loss| 2.160956382751465 |bounding_box_loss| 21.053194046020508\n",
      "|point_classification_loss| 2.130521774291992 |bounding_box_loss| 20.395872116088867\n",
      "|point_classification_loss| 2.2317776679992676 |bounding_box_loss| 20.09161376953125\n",
      "210 train_loss 22.32339096069336 accuracy 26.3763427734375\n",
      "|point_classification_loss| 2.1821982860565186 |bounding_box_loss| 22.834117889404297\n",
      "|point_classification_loss| 2.1947684288024902 |bounding_box_loss| 20.317604064941406\n",
      "|point_classification_loss| 2.1510508060455322 |bounding_box_loss| 20.459596633911133\n",
      "|point_classification_loss| 2.155111789703369 |bounding_box_loss| 20.643917083740234\n",
      "|point_classification_loss| 2.218700647354126 |bounding_box_loss| 22.19094467163086\n",
      "|point_classification_loss| 2.0835440158843994 |bounding_box_loss| 20.792978286743164\n",
      "|point_classification_loss| 2.147101402282715 |bounding_box_loss| 20.011295318603516\n",
      "|point_classification_loss| 2.1859662532806396 |bounding_box_loss| 21.51824951171875\n",
      "|point_classification_loss| 2.162315845489502 |bounding_box_loss| 20.94649887084961\n",
      "|point_classification_loss| 2.1245474815368652 |bounding_box_loss| 20.229642868041992\n",
      "220 train_loss 22.354190826416016 accuracy 29.3792724609375\n",
      "|point_classification_loss| 2.0959689617156982 |bounding_box_loss| 21.036128997802734\n",
      "|point_classification_loss| 2.0889453887939453 |bounding_box_loss| 20.324413299560547\n",
      "|point_classification_loss| 2.09395170211792 |bounding_box_loss| 20.36189079284668\n",
      "|point_classification_loss| 2.1567232608795166 |bounding_box_loss| 20.33395767211914\n",
      "|point_classification_loss| 2.0870461463928223 |bounding_box_loss| 20.890453338623047\n",
      "|point_classification_loss| 2.12416410446167 |bounding_box_loss| 20.326702117919922\n",
      "|point_classification_loss| 2.1224746704101562 |bounding_box_loss| 20.819721221923828\n",
      "|point_classification_loss| 2.0391480922698975 |bounding_box_loss| 20.26569366455078\n",
      "|point_classification_loss| 2.073364734649658 |bounding_box_loss| 21.017292022705078\n",
      "|point_classification_loss| 2.079768419265747 |bounding_box_loss| 20.39804458618164\n",
      "230 train_loss 22.477813720703125 accuracy 32.757568359375\n",
      "|point_classification_loss| 2.0666117668151855 |bounding_box_loss| 20.251049041748047\n",
      "|point_classification_loss| 2.0548758506774902 |bounding_box_loss| 20.39158058166504\n",
      "|point_classification_loss| 2.065765619277954 |bounding_box_loss| 20.331945419311523\n",
      "|point_classification_loss| 1.9980469942092896 |bounding_box_loss| 19.216602325439453\n"
     ]
    },
    {
     "ename": "KeyboardInterrupt",
     "evalue": "",
     "output_type": "error",
     "traceback": [
      "\u001b[0;31m---------------------------------------------------------------------------\u001b[0m",
      "\u001b[0;31mKeyboardInterrupt\u001b[0m                         Traceback (most recent call last)",
      "\u001b[0;32m<ipython-input-53-4145da07ceef>\u001b[0m in \u001b[0;36m<module>\u001b[0;34m\u001b[0m\n\u001b[1;32m     18\u001b[0m \u001b[0;32mfor\u001b[0m \u001b[0mepoch\u001b[0m \u001b[0;32min\u001b[0m \u001b[0mrange\u001b[0m\u001b[0;34m(\u001b[0m\u001b[0mEPOCHS\u001b[0m\u001b[0;34m)\u001b[0m\u001b[0;34m:\u001b[0m\u001b[0;34m\u001b[0m\u001b[0;34m\u001b[0m\u001b[0m\n\u001b[1;32m     19\u001b[0m \u001b[0;34m\u001b[0m\u001b[0m\n\u001b[0;32m---> 20\u001b[0;31m     \u001b[0;32mfor\u001b[0m \u001b[0mbatch_rv\u001b[0m\u001b[0;34m,\u001b[0m \u001b[0mbatch_labels\u001b[0m\u001b[0;34m,\u001b[0m \u001b[0mbatch_target_bbs\u001b[0m \u001b[0;32min\u001b[0m \u001b[0mtrain_dataloader\u001b[0m\u001b[0;34m:\u001b[0m\u001b[0;34m\u001b[0m\u001b[0;34m\u001b[0m\u001b[0m\n\u001b[0m\u001b[1;32m     21\u001b[0m \u001b[0;34m\u001b[0m\u001b[0m\n\u001b[1;32m     22\u001b[0m         \u001b[0mbatch_pointclass_preds\u001b[0m\u001b[0;34m,\u001b[0m \u001b[0mbatch_bb_param_preds\u001b[0m\u001b[0;34m,\u001b[0m \u001b[0mbatch_log_stds\u001b[0m \u001b[0;34m=\u001b[0m \u001b[0mlasernet\u001b[0m\u001b[0;34m(\u001b[0m\u001b[0mx\u001b[0m\u001b[0;34m=\u001b[0m\u001b[0mbatch_rv\u001b[0m\u001b[0;34m)\u001b[0m\u001b[0;34m\u001b[0m\u001b[0;34m\u001b[0m\u001b[0m\n",
      "\u001b[0;32m~/anaconda3/envs/thesis/lib/python3.9/site-packages/torch/utils/data/dataloader.py\u001b[0m in \u001b[0;36m__next__\u001b[0;34m(self)\u001b[0m\n\u001b[1;32m    515\u001b[0m             \u001b[0;32mif\u001b[0m \u001b[0mself\u001b[0m\u001b[0;34m.\u001b[0m\u001b[0m_sampler_iter\u001b[0m \u001b[0;32mis\u001b[0m \u001b[0;32mNone\u001b[0m\u001b[0;34m:\u001b[0m\u001b[0;34m\u001b[0m\u001b[0;34m\u001b[0m\u001b[0m\n\u001b[1;32m    516\u001b[0m                 \u001b[0mself\u001b[0m\u001b[0;34m.\u001b[0m\u001b[0m_reset\u001b[0m\u001b[0;34m(\u001b[0m\u001b[0;34m)\u001b[0m\u001b[0;34m\u001b[0m\u001b[0;34m\u001b[0m\u001b[0m\n\u001b[0;32m--> 517\u001b[0;31m             \u001b[0mdata\u001b[0m \u001b[0;34m=\u001b[0m \u001b[0mself\u001b[0m\u001b[0;34m.\u001b[0m\u001b[0m_next_data\u001b[0m\u001b[0;34m(\u001b[0m\u001b[0;34m)\u001b[0m\u001b[0;34m\u001b[0m\u001b[0;34m\u001b[0m\u001b[0m\n\u001b[0m\u001b[1;32m    518\u001b[0m             \u001b[0mself\u001b[0m\u001b[0;34m.\u001b[0m\u001b[0m_num_yielded\u001b[0m \u001b[0;34m+=\u001b[0m \u001b[0;36m1\u001b[0m\u001b[0;34m\u001b[0m\u001b[0;34m\u001b[0m\u001b[0m\n\u001b[1;32m    519\u001b[0m             \u001b[0;32mif\u001b[0m \u001b[0mself\u001b[0m\u001b[0;34m.\u001b[0m\u001b[0m_dataset_kind\u001b[0m \u001b[0;34m==\u001b[0m \u001b[0m_DatasetKind\u001b[0m\u001b[0;34m.\u001b[0m\u001b[0mIterable\u001b[0m \u001b[0;32mand\u001b[0m\u001b[0;31m \u001b[0m\u001b[0;31m\\\u001b[0m\u001b[0;34m\u001b[0m\u001b[0;34m\u001b[0m\u001b[0m\n",
      "\u001b[0;32m~/anaconda3/envs/thesis/lib/python3.9/site-packages/torch/utils/data/dataloader.py\u001b[0m in \u001b[0;36m_next_data\u001b[0;34m(self)\u001b[0m\n\u001b[1;32m    555\u001b[0m     \u001b[0;32mdef\u001b[0m \u001b[0m_next_data\u001b[0m\u001b[0;34m(\u001b[0m\u001b[0mself\u001b[0m\u001b[0;34m)\u001b[0m\u001b[0;34m:\u001b[0m\u001b[0;34m\u001b[0m\u001b[0;34m\u001b[0m\u001b[0m\n\u001b[1;32m    556\u001b[0m         \u001b[0mindex\u001b[0m \u001b[0;34m=\u001b[0m \u001b[0mself\u001b[0m\u001b[0;34m.\u001b[0m\u001b[0m_next_index\u001b[0m\u001b[0;34m(\u001b[0m\u001b[0;34m)\u001b[0m  \u001b[0;31m# may raise StopIteration\u001b[0m\u001b[0;34m\u001b[0m\u001b[0;34m\u001b[0m\u001b[0m\n\u001b[0;32m--> 557\u001b[0;31m         \u001b[0mdata\u001b[0m \u001b[0;34m=\u001b[0m \u001b[0mself\u001b[0m\u001b[0;34m.\u001b[0m\u001b[0m_dataset_fetcher\u001b[0m\u001b[0;34m.\u001b[0m\u001b[0mfetch\u001b[0m\u001b[0;34m(\u001b[0m\u001b[0mindex\u001b[0m\u001b[0;34m)\u001b[0m  \u001b[0;31m# may raise StopIteration\u001b[0m\u001b[0;34m\u001b[0m\u001b[0;34m\u001b[0m\u001b[0m\n\u001b[0m\u001b[1;32m    558\u001b[0m         \u001b[0;32mif\u001b[0m \u001b[0mself\u001b[0m\u001b[0;34m.\u001b[0m\u001b[0m_pin_memory\u001b[0m\u001b[0;34m:\u001b[0m\u001b[0;34m\u001b[0m\u001b[0;34m\u001b[0m\u001b[0m\n\u001b[1;32m    559\u001b[0m             \u001b[0mdata\u001b[0m \u001b[0;34m=\u001b[0m \u001b[0m_utils\u001b[0m\u001b[0;34m.\u001b[0m\u001b[0mpin_memory\u001b[0m\u001b[0;34m.\u001b[0m\u001b[0mpin_memory\u001b[0m\u001b[0;34m(\u001b[0m\u001b[0mdata\u001b[0m\u001b[0;34m)\u001b[0m\u001b[0;34m\u001b[0m\u001b[0;34m\u001b[0m\u001b[0m\n",
      "\u001b[0;32m~/anaconda3/envs/thesis/lib/python3.9/site-packages/torch/utils/data/_utils/fetch.py\u001b[0m in \u001b[0;36mfetch\u001b[0;34m(self, possibly_batched_index)\u001b[0m\n\u001b[1;32m     42\u001b[0m     \u001b[0;32mdef\u001b[0m \u001b[0mfetch\u001b[0m\u001b[0;34m(\u001b[0m\u001b[0mself\u001b[0m\u001b[0;34m,\u001b[0m \u001b[0mpossibly_batched_index\u001b[0m\u001b[0;34m)\u001b[0m\u001b[0;34m:\u001b[0m\u001b[0;34m\u001b[0m\u001b[0;34m\u001b[0m\u001b[0m\n\u001b[1;32m     43\u001b[0m         \u001b[0;32mif\u001b[0m \u001b[0mself\u001b[0m\u001b[0;34m.\u001b[0m\u001b[0mauto_collation\u001b[0m\u001b[0;34m:\u001b[0m\u001b[0;34m\u001b[0m\u001b[0;34m\u001b[0m\u001b[0m\n\u001b[0;32m---> 44\u001b[0;31m             \u001b[0mdata\u001b[0m \u001b[0;34m=\u001b[0m \u001b[0;34m[\u001b[0m\u001b[0mself\u001b[0m\u001b[0;34m.\u001b[0m\u001b[0mdataset\u001b[0m\u001b[0;34m[\u001b[0m\u001b[0midx\u001b[0m\u001b[0;34m]\u001b[0m \u001b[0;32mfor\u001b[0m \u001b[0midx\u001b[0m \u001b[0;32min\u001b[0m \u001b[0mpossibly_batched_index\u001b[0m\u001b[0;34m]\u001b[0m\u001b[0;34m\u001b[0m\u001b[0;34m\u001b[0m\u001b[0m\n\u001b[0m\u001b[1;32m     45\u001b[0m         \u001b[0;32melse\u001b[0m\u001b[0;34m:\u001b[0m\u001b[0;34m\u001b[0m\u001b[0;34m\u001b[0m\u001b[0m\n\u001b[1;32m     46\u001b[0m             \u001b[0mdata\u001b[0m \u001b[0;34m=\u001b[0m \u001b[0mself\u001b[0m\u001b[0;34m.\u001b[0m\u001b[0mdataset\u001b[0m\u001b[0;34m[\u001b[0m\u001b[0mpossibly_batched_index\u001b[0m\u001b[0;34m]\u001b[0m\u001b[0;34m\u001b[0m\u001b[0;34m\u001b[0m\u001b[0m\n",
      "\u001b[0;32m~/anaconda3/envs/thesis/lib/python3.9/site-packages/torch/utils/data/_utils/fetch.py\u001b[0m in \u001b[0;36m<listcomp>\u001b[0;34m(.0)\u001b[0m\n\u001b[1;32m     42\u001b[0m     \u001b[0;32mdef\u001b[0m \u001b[0mfetch\u001b[0m\u001b[0;34m(\u001b[0m\u001b[0mself\u001b[0m\u001b[0;34m,\u001b[0m \u001b[0mpossibly_batched_index\u001b[0m\u001b[0;34m)\u001b[0m\u001b[0;34m:\u001b[0m\u001b[0;34m\u001b[0m\u001b[0;34m\u001b[0m\u001b[0m\n\u001b[1;32m     43\u001b[0m         \u001b[0;32mif\u001b[0m \u001b[0mself\u001b[0m\u001b[0;34m.\u001b[0m\u001b[0mauto_collation\u001b[0m\u001b[0;34m:\u001b[0m\u001b[0;34m\u001b[0m\u001b[0;34m\u001b[0m\u001b[0m\n\u001b[0;32m---> 44\u001b[0;31m             \u001b[0mdata\u001b[0m \u001b[0;34m=\u001b[0m \u001b[0;34m[\u001b[0m\u001b[0mself\u001b[0m\u001b[0;34m.\u001b[0m\u001b[0mdataset\u001b[0m\u001b[0;34m[\u001b[0m\u001b[0midx\u001b[0m\u001b[0;34m]\u001b[0m \u001b[0;32mfor\u001b[0m \u001b[0midx\u001b[0m \u001b[0;32min\u001b[0m \u001b[0mpossibly_batched_index\u001b[0m\u001b[0;34m]\u001b[0m\u001b[0;34m\u001b[0m\u001b[0;34m\u001b[0m\u001b[0m\n\u001b[0m\u001b[1;32m     45\u001b[0m         \u001b[0;32melse\u001b[0m\u001b[0;34m:\u001b[0m\u001b[0;34m\u001b[0m\u001b[0;34m\u001b[0m\u001b[0m\n\u001b[1;32m     46\u001b[0m             \u001b[0mdata\u001b[0m \u001b[0;34m=\u001b[0m \u001b[0mself\u001b[0m\u001b[0;34m.\u001b[0m\u001b[0mdataset\u001b[0m\u001b[0;34m[\u001b[0m\u001b[0mpossibly_batched_index\u001b[0m\u001b[0;34m]\u001b[0m\u001b[0;34m\u001b[0m\u001b[0;34m\u001b[0m\u001b[0m\n",
      "\u001b[0;32m~/lidar-camera-fusion-detection/src/datasets.py\u001b[0m in \u001b[0;36m__getitem__\u001b[0;34m(self, idx)\u001b[0m\n\u001b[1;32m    206\u001b[0m \u001b[0;31m#             print(\"1\", pcl_features[:, :2].shape)\u001b[0m\u001b[0;34m\u001b[0m\u001b[0;34m\u001b[0m\u001b[0;34m\u001b[0m\u001b[0m\n\u001b[1;32m    207\u001b[0m \u001b[0;34m\u001b[0m\u001b[0m\n\u001b[0;32m--> 208\u001b[0;31m         \u001b[0mrange_view\u001b[0m\u001b[0;34m,\u001b[0m \u001b[0mtargets\u001b[0m \u001b[0;34m=\u001b[0m \u001b[0mpcl_to_rangeview\u001b[0m\u001b[0;34m(\u001b[0m\u001b[0mpcl_features\u001b[0m\u001b[0;34m,\u001b[0m \u001b[0mpcl_targets\u001b[0m\u001b[0;34m)\u001b[0m\u001b[0;34m\u001b[0m\u001b[0;34m\u001b[0m\u001b[0m\n\u001b[0m\u001b[1;32m    209\u001b[0m \u001b[0;34m\u001b[0m\u001b[0m\n\u001b[1;32m    210\u001b[0m         \u001b[0mrange_view\u001b[0m \u001b[0;34m=\u001b[0m \u001b[0mrange_view\u001b[0m\u001b[0;34m.\u001b[0m\u001b[0mtranspose\u001b[0m\u001b[0;34m(\u001b[0m\u001b[0;36m2\u001b[0m\u001b[0;34m,\u001b[0m \u001b[0;36m1\u001b[0m\u001b[0;34m,\u001b[0m \u001b[0;36m0\u001b[0m\u001b[0;34m)\u001b[0m\u001b[0;34m\u001b[0m\u001b[0;34m\u001b[0m\u001b[0m\n",
      "\u001b[0;32m~/lidar-camera-fusion-detection/src/preprocess.py\u001b[0m in \u001b[0;36mpcl_to_rangeview\u001b[0;34m(pcl_features, pcl_labels)\u001b[0m\n\u001b[1;32m     45\u001b[0m     \u001b[0;31m# row numbers of points which have minimal distance in their groups\u001b[0m\u001b[0;34m\u001b[0m\u001b[0;34m\u001b[0m\u001b[0;34m\u001b[0m\u001b[0m\n\u001b[1;32m     46\u001b[0m \u001b[0;34m\u001b[0m\u001b[0m\n\u001b[0;32m---> 47\u001b[0;31m     \u001b[0midx_min\u001b[0m \u001b[0;34m=\u001b[0m \u001b[0mpoints_df\u001b[0m\u001b[0;34m.\u001b[0m\u001b[0mgroupby\u001b[0m\u001b[0;34m(\u001b[0m\u001b[0;34m[\u001b[0m\u001b[0;34m'ring_index'\u001b[0m\u001b[0;34m,\u001b[0m \u001b[0;34m'azimuth_bin'\u001b[0m\u001b[0;34m]\u001b[0m\u001b[0;34m)\u001b[0m\u001b[0;31m \u001b[0m\u001b[0;31m\\\u001b[0m\u001b[0;34m\u001b[0m\u001b[0;34m\u001b[0m\u001b[0m\n\u001b[0m\u001b[1;32m     48\u001b[0m         \u001b[0;34m.\u001b[0m\u001b[0mdistance\u001b[0m\u001b[0;34m.\u001b[0m\u001b[0midxmin\u001b[0m\u001b[0;34m(\u001b[0m\u001b[0;34m)\u001b[0m\u001b[0;31m \u001b[0m\u001b[0;31m\\\u001b[0m\u001b[0;34m\u001b[0m\u001b[0;34m\u001b[0m\u001b[0m\n\u001b[1;32m     49\u001b[0m         \u001b[0;34m.\u001b[0m\u001b[0munstack\u001b[0m\u001b[0;34m(\u001b[0m\u001b[0mfill_value\u001b[0m\u001b[0;34m=\u001b[0m\u001b[0mdf_len\u001b[0m\u001b[0;34m)\u001b[0m\u001b[0;34m.\u001b[0m\u001b[0mstack\u001b[0m\u001b[0;34m(\u001b[0m\u001b[0;34m)\u001b[0m\u001b[0;34m.\u001b[0m\u001b[0mvalues\u001b[0m\u001b[0;34m\u001b[0m\u001b[0;34m\u001b[0m\u001b[0m\n",
      "\u001b[0;32m~/anaconda3/envs/thesis/lib/python3.9/site-packages/pandas/core/groupby/groupby.py\u001b[0m in \u001b[0;36mwrapper\u001b[0;34m(*args, **kwargs)\u001b[0m\n\u001b[1;32m    815\u001b[0m                 \u001b[0;32mreturn\u001b[0m \u001b[0mself\u001b[0m\u001b[0;34m.\u001b[0m\u001b[0mapply\u001b[0m\u001b[0;34m(\u001b[0m\u001b[0mcurried\u001b[0m\u001b[0;34m)\u001b[0m\u001b[0;34m\u001b[0m\u001b[0;34m\u001b[0m\u001b[0m\n\u001b[1;32m    816\u001b[0m \u001b[0;34m\u001b[0m\u001b[0m\n\u001b[0;32m--> 817\u001b[0;31m             \u001b[0;32mreturn\u001b[0m \u001b[0mself\u001b[0m\u001b[0;34m.\u001b[0m\u001b[0m_python_apply_general\u001b[0m\u001b[0;34m(\u001b[0m\u001b[0mcurried\u001b[0m\u001b[0;34m,\u001b[0m \u001b[0mself\u001b[0m\u001b[0;34m.\u001b[0m\u001b[0m_obj_with_exclusions\u001b[0m\u001b[0;34m)\u001b[0m\u001b[0;34m\u001b[0m\u001b[0;34m\u001b[0m\u001b[0m\n\u001b[0m\u001b[1;32m    818\u001b[0m \u001b[0;34m\u001b[0m\u001b[0m\n\u001b[1;32m    819\u001b[0m         \u001b[0mwrapper\u001b[0m\u001b[0;34m.\u001b[0m\u001b[0m__name__\u001b[0m \u001b[0;34m=\u001b[0m \u001b[0mname\u001b[0m\u001b[0;34m\u001b[0m\u001b[0;34m\u001b[0m\u001b[0m\n",
      "\u001b[0;32m~/anaconda3/envs/thesis/lib/python3.9/site-packages/pandas/core/groupby/groupby.py\u001b[0m in \u001b[0;36m_python_apply_general\u001b[0;34m(self, f, data)\u001b[0m\n\u001b[1;32m    926\u001b[0m             \u001b[0mdata\u001b[0m \u001b[0mafter\u001b[0m \u001b[0mapplying\u001b[0m \u001b[0mf\u001b[0m\u001b[0;34m\u001b[0m\u001b[0;34m\u001b[0m\u001b[0m\n\u001b[1;32m    927\u001b[0m         \"\"\"\n\u001b[0;32m--> 928\u001b[0;31m         \u001b[0mkeys\u001b[0m\u001b[0;34m,\u001b[0m \u001b[0mvalues\u001b[0m\u001b[0;34m,\u001b[0m \u001b[0mmutated\u001b[0m \u001b[0;34m=\u001b[0m \u001b[0mself\u001b[0m\u001b[0;34m.\u001b[0m\u001b[0mgrouper\u001b[0m\u001b[0;34m.\u001b[0m\u001b[0mapply\u001b[0m\u001b[0;34m(\u001b[0m\u001b[0mf\u001b[0m\u001b[0;34m,\u001b[0m \u001b[0mdata\u001b[0m\u001b[0;34m,\u001b[0m \u001b[0mself\u001b[0m\u001b[0;34m.\u001b[0m\u001b[0maxis\u001b[0m\u001b[0;34m)\u001b[0m\u001b[0;34m\u001b[0m\u001b[0;34m\u001b[0m\u001b[0m\n\u001b[0m\u001b[1;32m    929\u001b[0m \u001b[0;34m\u001b[0m\u001b[0m\n\u001b[1;32m    930\u001b[0m         return self._wrap_applied_output(\n",
      "\u001b[0;32m~/anaconda3/envs/thesis/lib/python3.9/site-packages/pandas/core/groupby/ops.py\u001b[0m in \u001b[0;36mapply\u001b[0;34m(self, f, data, axis)\u001b[0m\n\u001b[1;32m    218\u001b[0m                     \u001b[0;32mreturn\u001b[0m \u001b[0mgroup_keys\u001b[0m\u001b[0;34m,\u001b[0m \u001b[0mresult_values\u001b[0m\u001b[0;34m,\u001b[0m \u001b[0mmutated\u001b[0m\u001b[0;34m\u001b[0m\u001b[0;34m\u001b[0m\u001b[0m\n\u001b[1;32m    219\u001b[0m \u001b[0;34m\u001b[0m\u001b[0m\n\u001b[0;32m--> 220\u001b[0;31m         \u001b[0;32mfor\u001b[0m \u001b[0mkey\u001b[0m\u001b[0;34m,\u001b[0m \u001b[0;34m(\u001b[0m\u001b[0mi\u001b[0m\u001b[0;34m,\u001b[0m \u001b[0mgroup\u001b[0m\u001b[0;34m)\u001b[0m \u001b[0;32min\u001b[0m \u001b[0mzip\u001b[0m\u001b[0;34m(\u001b[0m\u001b[0mgroup_keys\u001b[0m\u001b[0;34m,\u001b[0m \u001b[0msplitter\u001b[0m\u001b[0;34m)\u001b[0m\u001b[0;34m:\u001b[0m\u001b[0;34m\u001b[0m\u001b[0;34m\u001b[0m\u001b[0m\n\u001b[0m\u001b[1;32m    221\u001b[0m             \u001b[0mobject\u001b[0m\u001b[0;34m.\u001b[0m\u001b[0m__setattr__\u001b[0m\u001b[0;34m(\u001b[0m\u001b[0mgroup\u001b[0m\u001b[0;34m,\u001b[0m \u001b[0;34m\"name\"\u001b[0m\u001b[0;34m,\u001b[0m \u001b[0mkey\u001b[0m\u001b[0;34m)\u001b[0m\u001b[0;34m\u001b[0m\u001b[0;34m\u001b[0m\u001b[0m\n\u001b[1;32m    222\u001b[0m \u001b[0;34m\u001b[0m\u001b[0m\n",
      "\u001b[0;32m~/anaconda3/envs/thesis/lib/python3.9/site-packages/pandas/core/groupby/ops.py\u001b[0m in \u001b[0;36m__iter__\u001b[0;34m(self)\u001b[0m\n\u001b[1;32m    978\u001b[0m \u001b[0;34m\u001b[0m\u001b[0m\n\u001b[1;32m    979\u001b[0m         \u001b[0;32mfor\u001b[0m \u001b[0mi\u001b[0m\u001b[0;34m,\u001b[0m \u001b[0;34m(\u001b[0m\u001b[0mstart\u001b[0m\u001b[0;34m,\u001b[0m \u001b[0mend\u001b[0m\u001b[0;34m)\u001b[0m \u001b[0;32min\u001b[0m \u001b[0menumerate\u001b[0m\u001b[0;34m(\u001b[0m\u001b[0mzip\u001b[0m\u001b[0;34m(\u001b[0m\u001b[0mstarts\u001b[0m\u001b[0;34m,\u001b[0m \u001b[0mends\u001b[0m\u001b[0;34m)\u001b[0m\u001b[0;34m)\u001b[0m\u001b[0;34m:\u001b[0m\u001b[0;34m\u001b[0m\u001b[0;34m\u001b[0m\u001b[0m\n\u001b[0;32m--> 980\u001b[0;31m             \u001b[0;32myield\u001b[0m \u001b[0mi\u001b[0m\u001b[0;34m,\u001b[0m \u001b[0mself\u001b[0m\u001b[0;34m.\u001b[0m\u001b[0m_chop\u001b[0m\u001b[0;34m(\u001b[0m\u001b[0msdata\u001b[0m\u001b[0;34m,\u001b[0m \u001b[0mslice\u001b[0m\u001b[0;34m(\u001b[0m\u001b[0mstart\u001b[0m\u001b[0;34m,\u001b[0m \u001b[0mend\u001b[0m\u001b[0;34m)\u001b[0m\u001b[0;34m)\u001b[0m\u001b[0;34m\u001b[0m\u001b[0;34m\u001b[0m\u001b[0m\n\u001b[0m\u001b[1;32m    981\u001b[0m \u001b[0;34m\u001b[0m\u001b[0m\n\u001b[1;32m    982\u001b[0m     \u001b[0;32mdef\u001b[0m \u001b[0m_get_sorted_data\u001b[0m\u001b[0;34m(\u001b[0m\u001b[0mself\u001b[0m\u001b[0;34m)\u001b[0m \u001b[0;34m->\u001b[0m \u001b[0mFrameOrSeries\u001b[0m\u001b[0;34m:\u001b[0m\u001b[0;34m\u001b[0m\u001b[0;34m\u001b[0m\u001b[0m\n",
      "\u001b[0;32m~/anaconda3/envs/thesis/lib/python3.9/site-packages/pandas/core/groupby/ops.py\u001b[0m in \u001b[0;36m_chop\u001b[0;34m(self, sdata, slice_obj)\u001b[0m\n\u001b[1;32m    990\u001b[0m     \u001b[0;32mdef\u001b[0m \u001b[0m_chop\u001b[0m\u001b[0;34m(\u001b[0m\u001b[0mself\u001b[0m\u001b[0;34m,\u001b[0m \u001b[0msdata\u001b[0m\u001b[0;34m:\u001b[0m \u001b[0mSeries\u001b[0m\u001b[0;34m,\u001b[0m \u001b[0mslice_obj\u001b[0m\u001b[0;34m:\u001b[0m \u001b[0mslice\u001b[0m\u001b[0;34m)\u001b[0m \u001b[0;34m->\u001b[0m \u001b[0mSeries\u001b[0m\u001b[0;34m:\u001b[0m\u001b[0;34m\u001b[0m\u001b[0;34m\u001b[0m\u001b[0m\n\u001b[1;32m    991\u001b[0m         \u001b[0;31m# fastpath equivalent to `sdata.iloc[slice_obj]`\u001b[0m\u001b[0;34m\u001b[0m\u001b[0;34m\u001b[0m\u001b[0;34m\u001b[0m\u001b[0m\n\u001b[0;32m--> 992\u001b[0;31m         \u001b[0mmgr\u001b[0m \u001b[0;34m=\u001b[0m \u001b[0msdata\u001b[0m\u001b[0;34m.\u001b[0m\u001b[0m_mgr\u001b[0m\u001b[0;34m.\u001b[0m\u001b[0mget_slice\u001b[0m\u001b[0;34m(\u001b[0m\u001b[0mslice_obj\u001b[0m\u001b[0;34m)\u001b[0m\u001b[0;34m\u001b[0m\u001b[0;34m\u001b[0m\u001b[0m\n\u001b[0m\u001b[1;32m    993\u001b[0m         \u001b[0;31m# __finalize__ not called here, must be applied by caller if applicable\u001b[0m\u001b[0;34m\u001b[0m\u001b[0;34m\u001b[0m\u001b[0;34m\u001b[0m\u001b[0m\n\u001b[1;32m    994\u001b[0m         \u001b[0;32mreturn\u001b[0m \u001b[0msdata\u001b[0m\u001b[0;34m.\u001b[0m\u001b[0m_constructor\u001b[0m\u001b[0;34m(\u001b[0m\u001b[0mmgr\u001b[0m\u001b[0;34m,\u001b[0m \u001b[0mname\u001b[0m\u001b[0;34m=\u001b[0m\u001b[0msdata\u001b[0m\u001b[0;34m.\u001b[0m\u001b[0mname\u001b[0m\u001b[0;34m,\u001b[0m \u001b[0mfastpath\u001b[0m\u001b[0;34m=\u001b[0m\u001b[0;32mTrue\u001b[0m\u001b[0;34m)\u001b[0m\u001b[0;34m\u001b[0m\u001b[0;34m\u001b[0m\u001b[0m\n",
      "\u001b[0;32m~/anaconda3/envs/thesis/lib/python3.9/site-packages/pandas/core/internals/managers.py\u001b[0m in \u001b[0;36mget_slice\u001b[0;34m(self, slobj, axis)\u001b[0m\n\u001b[1;32m   1607\u001b[0m         \u001b[0marray\u001b[0m \u001b[0;34m=\u001b[0m \u001b[0mblk\u001b[0m\u001b[0;34m.\u001b[0m\u001b[0m_slice\u001b[0m\u001b[0;34m(\u001b[0m\u001b[0mslobj\u001b[0m\u001b[0;34m)\u001b[0m\u001b[0;34m\u001b[0m\u001b[0;34m\u001b[0m\u001b[0m\n\u001b[1;32m   1608\u001b[0m         \u001b[0mblock\u001b[0m \u001b[0;34m=\u001b[0m \u001b[0mblk\u001b[0m\u001b[0;34m.\u001b[0m\u001b[0mmake_block_same_class\u001b[0m\u001b[0;34m(\u001b[0m\u001b[0marray\u001b[0m\u001b[0;34m,\u001b[0m \u001b[0mplacement\u001b[0m\u001b[0;34m=\u001b[0m\u001b[0mslice\u001b[0m\u001b[0;34m(\u001b[0m\u001b[0;36m0\u001b[0m\u001b[0;34m,\u001b[0m \u001b[0mlen\u001b[0m\u001b[0;34m(\u001b[0m\u001b[0marray\u001b[0m\u001b[0;34m)\u001b[0m\u001b[0;34m)\u001b[0m\u001b[0;34m)\u001b[0m\u001b[0;34m\u001b[0m\u001b[0;34m\u001b[0m\u001b[0m\n\u001b[0;32m-> 1609\u001b[0;31m         \u001b[0;32mreturn\u001b[0m \u001b[0mtype\u001b[0m\u001b[0;34m(\u001b[0m\u001b[0mself\u001b[0m\u001b[0;34m)\u001b[0m\u001b[0;34m(\u001b[0m\u001b[0mblock\u001b[0m\u001b[0;34m,\u001b[0m \u001b[0mself\u001b[0m\u001b[0;34m.\u001b[0m\u001b[0mindex\u001b[0m\u001b[0;34m[\u001b[0m\u001b[0mslobj\u001b[0m\u001b[0;34m]\u001b[0m\u001b[0;34m)\u001b[0m\u001b[0;34m\u001b[0m\u001b[0;34m\u001b[0m\u001b[0m\n\u001b[0m\u001b[1;32m   1610\u001b[0m \u001b[0;34m\u001b[0m\u001b[0m\n\u001b[1;32m   1611\u001b[0m     \u001b[0;34m@\u001b[0m\u001b[0mproperty\u001b[0m\u001b[0;34m\u001b[0m\u001b[0;34m\u001b[0m\u001b[0m\n",
      "\u001b[0;32m~/anaconda3/envs/thesis/lib/python3.9/site-packages/pandas/core/indexes/base.py\u001b[0m in \u001b[0;36m__getitem__\u001b[0;34m(self, key)\u001b[0m\n\u001b[1;32m   4300\u001b[0m             \u001b[0;31m# This case is separated from the conditional above to avoid\u001b[0m\u001b[0;34m\u001b[0m\u001b[0;34m\u001b[0m\u001b[0;34m\u001b[0m\u001b[0m\n\u001b[1;32m   4301\u001b[0m             \u001b[0;31m# pessimization of basic indexing.\u001b[0m\u001b[0;34m\u001b[0m\u001b[0;34m\u001b[0m\u001b[0;34m\u001b[0m\u001b[0m\n\u001b[0;32m-> 4302\u001b[0;31m             \u001b[0;32mreturn\u001b[0m \u001b[0mpromote\u001b[0m\u001b[0;34m(\u001b[0m\u001b[0mgetitem\u001b[0m\u001b[0;34m(\u001b[0m\u001b[0mkey\u001b[0m\u001b[0;34m)\u001b[0m\u001b[0;34m)\u001b[0m\u001b[0;34m\u001b[0m\u001b[0;34m\u001b[0m\u001b[0m\n\u001b[0m\u001b[1;32m   4303\u001b[0m \u001b[0;34m\u001b[0m\u001b[0m\n\u001b[1;32m   4304\u001b[0m         \u001b[0;32mif\u001b[0m \u001b[0mcom\u001b[0m\u001b[0;34m.\u001b[0m\u001b[0mis_bool_indexer\u001b[0m\u001b[0;34m(\u001b[0m\u001b[0mkey\u001b[0m\u001b[0;34m)\u001b[0m\u001b[0;34m:\u001b[0m\u001b[0;34m\u001b[0m\u001b[0;34m\u001b[0m\u001b[0m\n",
      "\u001b[0;32m~/anaconda3/envs/thesis/lib/python3.9/site-packages/pandas/core/indexes/numeric.py\u001b[0m in \u001b[0;36m_shallow_copy\u001b[0;34m(self, values, name)\u001b[0m\n\u001b[1;32m    111\u001b[0m             \u001b[0;31m# Ensure we are not returning an Int64Index with float data:\u001b[0m\u001b[0;34m\u001b[0m\u001b[0;34m\u001b[0m\u001b[0;34m\u001b[0m\u001b[0m\n\u001b[1;32m    112\u001b[0m             \u001b[0;32mreturn\u001b[0m \u001b[0mFloat64Index\u001b[0m\u001b[0;34m.\u001b[0m\u001b[0m_simple_new\u001b[0m\u001b[0;34m(\u001b[0m\u001b[0mvalues\u001b[0m\u001b[0;34m,\u001b[0m \u001b[0mname\u001b[0m\u001b[0;34m=\u001b[0m\u001b[0mname\u001b[0m\u001b[0;34m)\u001b[0m\u001b[0;34m\u001b[0m\u001b[0;34m\u001b[0m\u001b[0m\n\u001b[0;32m--> 113\u001b[0;31m         \u001b[0;32mreturn\u001b[0m \u001b[0msuper\u001b[0m\u001b[0;34m(\u001b[0m\u001b[0;34m)\u001b[0m\u001b[0;34m.\u001b[0m\u001b[0m_shallow_copy\u001b[0m\u001b[0;34m(\u001b[0m\u001b[0mvalues\u001b[0m\u001b[0;34m=\u001b[0m\u001b[0mvalues\u001b[0m\u001b[0;34m,\u001b[0m \u001b[0mname\u001b[0m\u001b[0;34m=\u001b[0m\u001b[0mname\u001b[0m\u001b[0;34m)\u001b[0m\u001b[0;34m\u001b[0m\u001b[0;34m\u001b[0m\u001b[0m\n\u001b[0m\u001b[1;32m    114\u001b[0m \u001b[0;34m\u001b[0m\u001b[0m\n\u001b[1;32m    115\u001b[0m     \u001b[0;32mdef\u001b[0m \u001b[0m_validate_fill_value\u001b[0m\u001b[0;34m(\u001b[0m\u001b[0mself\u001b[0m\u001b[0;34m,\u001b[0m \u001b[0mvalue\u001b[0m\u001b[0;34m)\u001b[0m\u001b[0;34m:\u001b[0m\u001b[0;34m\u001b[0m\u001b[0;34m\u001b[0m\u001b[0m\n",
      "\u001b[0;32m~/anaconda3/envs/thesis/lib/python3.9/site-packages/pandas/core/indexes/base.py\u001b[0m in \u001b[0;36m_shallow_copy\u001b[0;34m(self, values, name)\u001b[0m\n\u001b[1;32m    524\u001b[0m \u001b[0;34m\u001b[0m\u001b[0m\n\u001b[1;32m    525\u001b[0m         \u001b[0;32mif\u001b[0m \u001b[0mvalues\u001b[0m \u001b[0;32mis\u001b[0m \u001b[0;32mnot\u001b[0m \u001b[0;32mNone\u001b[0m\u001b[0;34m:\u001b[0m\u001b[0;34m\u001b[0m\u001b[0;34m\u001b[0m\u001b[0m\n\u001b[0;32m--> 526\u001b[0;31m             \u001b[0;32mreturn\u001b[0m \u001b[0mself\u001b[0m\u001b[0;34m.\u001b[0m\u001b[0m_simple_new\u001b[0m\u001b[0;34m(\u001b[0m\u001b[0mvalues\u001b[0m\u001b[0;34m,\u001b[0m \u001b[0mname\u001b[0m\u001b[0;34m=\u001b[0m\u001b[0mname\u001b[0m\u001b[0;34m)\u001b[0m\u001b[0;34m\u001b[0m\u001b[0;34m\u001b[0m\u001b[0m\n\u001b[0m\u001b[1;32m    527\u001b[0m \u001b[0;34m\u001b[0m\u001b[0m\n\u001b[1;32m    528\u001b[0m         \u001b[0mresult\u001b[0m \u001b[0;34m=\u001b[0m \u001b[0mself\u001b[0m\u001b[0;34m.\u001b[0m\u001b[0m_simple_new\u001b[0m\u001b[0;34m(\u001b[0m\u001b[0mself\u001b[0m\u001b[0;34m.\u001b[0m\u001b[0m_values\u001b[0m\u001b[0;34m,\u001b[0m \u001b[0mname\u001b[0m\u001b[0;34m=\u001b[0m\u001b[0mname\u001b[0m\u001b[0;34m)\u001b[0m\u001b[0;34m\u001b[0m\u001b[0;34m\u001b[0m\u001b[0m\n",
      "\u001b[0;32m~/anaconda3/envs/thesis/lib/python3.9/site-packages/pandas/core/indexes/base.py\u001b[0m in \u001b[0;36m_simple_new\u001b[0;34m(cls, values, name)\u001b[0m\n\u001b[1;32m    433\u001b[0m         \u001b[0;32massert\u001b[0m \u001b[0misinstance\u001b[0m\u001b[0;34m(\u001b[0m\u001b[0mvalues\u001b[0m\u001b[0;34m,\u001b[0m \u001b[0mnp\u001b[0m\u001b[0;34m.\u001b[0m\u001b[0mndarray\u001b[0m\u001b[0;34m)\u001b[0m\u001b[0;34m,\u001b[0m \u001b[0mtype\u001b[0m\u001b[0;34m(\u001b[0m\u001b[0mvalues\u001b[0m\u001b[0;34m)\u001b[0m\u001b[0;34m\u001b[0m\u001b[0;34m\u001b[0m\u001b[0m\n\u001b[1;32m    434\u001b[0m \u001b[0;34m\u001b[0m\u001b[0m\n\u001b[0;32m--> 435\u001b[0;31m         \u001b[0mresult\u001b[0m \u001b[0;34m=\u001b[0m \u001b[0mobject\u001b[0m\u001b[0;34m.\u001b[0m\u001b[0m__new__\u001b[0m\u001b[0;34m(\u001b[0m\u001b[0mcls\u001b[0m\u001b[0;34m)\u001b[0m\u001b[0;34m\u001b[0m\u001b[0;34m\u001b[0m\u001b[0m\n\u001b[0m\u001b[1;32m    436\u001b[0m         \u001b[0mresult\u001b[0m\u001b[0;34m.\u001b[0m\u001b[0m_data\u001b[0m \u001b[0;34m=\u001b[0m \u001b[0mvalues\u001b[0m\u001b[0;34m\u001b[0m\u001b[0;34m\u001b[0m\u001b[0m\n\u001b[1;32m    437\u001b[0m         \u001b[0;31m# _index_data is a (temporary?) fix to ensure that the direct data\u001b[0m\u001b[0;34m\u001b[0m\u001b[0;34m\u001b[0m\u001b[0;34m\u001b[0m\u001b[0m\n",
      "\u001b[0;31mKeyboardInterrupt\u001b[0m: "
     ]
    }
   ],
   "source": [
    "EPOCHS = 2000\n",
    "\n",
    "lasernet = torch.nn.DataParallel(LaserNet(), device_ids=[0, 1])\n",
    "loss = LaserNetLoss()\n",
    "optimizer = torch.optim.Adam(lasernet.parameters(), lr=0.00005)\n",
    "lr_scheduler = torch.optim.lr_scheduler.ExponentialLR(optimizer, gamma = 0.95)\n",
    "\n",
    "\n",
    "lasernet.zero_grad()\n",
    "loss.zero_grad()\n",
    "optimizer.zero_grad()\n",
    "\n",
    "train_losses = []\n",
    "train_accs = []\n",
    "\n",
    "val_losses = []\n",
    "val_accs = []\n",
    "for epoch in range(EPOCHS):\n",
    "    \n",
    "    for batch_rv, batch_labels, batch_target_bbs in train_dataloader:\n",
    "        \n",
    "        batch_pointclass_preds, batch_bb_param_preds, batch_log_stds = lasernet(x=batch_rv)\n",
    "                \n",
    "        L_train = loss(batch_pointclass_preds, batch_bb_param_preds, batch_log_stds, \n",
    "                       batch_labels, batch_target_bbs)\n",
    "        \n",
    "        lasernet.zero_grad()\n",
    "        \n",
    "        if torch.isnan(L_train):\n",
    "            break\n",
    "            \n",
    "        L_train.backward()\n",
    "        optimizer.step()\n",
    "    \n",
    "#     with torch.no_grad():\n",
    "#         for batch_rv, batch_labels, batch_target_bbs in val_dataloader:\n",
    "            \n",
    "#             batch_pointclass_preds, batch_bb_param_preds = lasernet(x=batch_rv)\n",
    "\n",
    "#             L_val = loss(batch_pointclass_preds, batch_bb_param_preds, batch_labels, batch_target_bbs)\n",
    "        \n",
    "#             val_losses.append(L_val.item())\n",
    "\n",
    "#     torch.save(lasernet, f'lasernet-d{len(train_dataset)}-b64-e{epoch}-adam-lr002-sch095e1')\n",
    "\n",
    "    if torch.isnan(L_train):\n",
    "        break\n",
    "            \n",
    "    if epoch % 10 == 0:\n",
    "        batch_pointclass_pred_labels = torch.argmax(batch_pointclass_preds, axis=1)\n",
    "        batch_pointclass_labels = torch.argmax(batch_labels, axis=1)\n",
    "        \n",
    "        correct_preds = torch.sum(batch_pointclass_pred_labels == batch_pointclass_labels)\n",
    "        all_points = torch.sum(batch_pointclass_labels == batch_pointclass_labels)\n",
    "        accuracy = (correct_preds / all_points).item() * 100\n",
    "        \n",
    "        train_losses.append(L_train.item())\n",
    "        train_accs.append(accuracy)\n",
    "        \n",
    "        print(epoch, \"train_loss\", L_train.item(), \"accuracy\",  accuracy) #, \"val_loss\", L_val.item())\n",
    "    if epoch % 200 == 0:\n",
    "        lr_scheduler.step()"
   ]
  },
  {
   "cell_type": "code",
   "execution_count": 54,
   "id": "44ce03d5",
   "metadata": {},
   "outputs": [
    {
     "data": {
      "image/png": "[encoded data removed]",
      "text/plain": [
       "<Figure size 432x288 with 1 Axes>"
      ]
     },
     "metadata": {
      "needs_background": "light"
     },
     "output_type": "display_data"
    }
   ],
   "source": [
    "plt.plot(train_losses)\n",
    "plt.show()"
   ]
  },
  {
   "cell_type": "code",
   "execution_count": 44,
   "id": "c28eab55",
   "metadata": {},
   "outputs": [
    {
     "data": {
      "image/png": "[encoded data removed]",
      "text/plain": [
       "<Figure size 432x288 with 1 Axes>"
      ]
     },
     "metadata": {
      "needs_background": "light"
     },
     "output_type": "display_data"
    }
   ],
   "source": [
    "plt.plot(train_accs)\n",
    "plt.show()"
   ]
  },
  {
   "cell_type": "markdown",
   "id": "bdd671ab",
   "metadata": {},
   "source": [
    "__[3] after transform fix | cross entropy and MSE | no log std | lr=0.001| gamma 097 every 100 epochs__\n",
    "\n",
    "|point_classification_loss| 0.25498661398887634 |bounding_box_loss| 85.12548828125\n",
    "\n",
    "1980 train_loss 85.60669708251953 val_loss 85.47611236572266\n",
    "\n",
    "\n",
    "bad boxes (even lines, not boxes) in the right places!\n",
    "\n",
    "---\n",
    "__[4] after transform fix | cross entropy and MSE | no log std | only non-zero boxes | lr=0.001| gamma 097 every 100 epochs____\n",
    "\n",
    "|point_classification_loss| 0.8824732303619385 |bounding_box_loss| 19.866052627563477\n",
    "\n",
    "870 train_loss 20.781124114990234 val_loss 20.748525619506836\n",
    "\n",
    "\n",
    "looks more like boxes, but in the wrong places as well, may fals positives near ego\n",
    "\n",
    "the further the object is, the thinner is it's bounding box\n",
    "\n",
    "---\n",
    "\n",
    "__[5] after transform fix | cross entropy and MSE | no log std | only non-zero boxes | lr=0.01| gamma 097 every 500 epochs__\n",
    "\n",
    "|point_classification_loss| 0.3059435784816742 |bounding_box_loss| 20.469608306884766\n",
    "\n",
    "870 train_loss 20.82895851135254 accuracy 89.617919921875\n",
    "\n",
    "---\n",
    "__[6] after transform fix| heads no elu | focal loss and log_std error | all boxes | lr=0.00005| gamma 095 every 200 epochs| std for each rv cell| mean by object__\n",
    "\n",
    "too slow, could ve made the lr bigger or the decrease slower\n",
    "\n",
    "|point_classification_loss| 0.2606876790523529 |bounding_box_loss| 1.9241503477096558\n",
    "\n",
    "\n",
    "1990 train_loss 2.184837818145752 accuracy 83.06884765625\n",
    "\n",
    "---\n",
    "\n",
    "__[7] after transform fix| heads no elu | focal loss and log_std error | all boxes | lr=0.001| gamma 095 every 500 epochs| std for each rv cell| mean by object__\n",
    "\n",
    "|point_classification_loss| 0.08178392797708511 |bounding_box_loss| 1.3698492050170898\n",
    "\n",
    "1990 train_loss 1.4516332149505615 accuracy 93.096923828125\n",
    "\n",
    "---\n",
    "\n",
    "__[8] after transform fix| heads no elu | focal loss and mse | selected boxes | lr=0.01| gamma 095 every 500 epochs| std for each rv cell| mean by object | 2k epochs__\n",
    "\n",
    "\n",
    "|point_classification_loss| 0.15576070547103882 |bounding_box_loss| 1.5972236394882202\n",
    "\n",
    "1380 train_loss 1.7529842853546143 accuracy 88.897705078125\n",
    "\n",
    "---\n",
    "\n",
    "__[9] fixed bb gradient mask| focal loss and mse| selected boxes| lr=0.01| gamma 095 every 500 epochs| std for each rv cell| 2k epochs__\n",
    "\n",
    "|point_classification_loss| 0.028342999517917633 |bounding_box_loss| 7.2635931968688965\n",
    "\n",
    "1130 train_loss 7.312100887298584 accuracy 97.137451171875\n",
    "\n",
    "---\n",
    "\n",
    "__[10] fixed bb gradient mask| focal loss and mse by sample| selected boxes| lr=0.001| gamma 095 every 500 epochs| std for each rv cell| 2k epochs__\n",
    "\n",
    "after changing to per-sample loss, training went much better, with general mean, there was no immprovement. bb error started walking around 5\n",
    "\n",
    "|point_classification_loss| 0.1675342619419098 |bounding_box_loss| 4.894263744354248\n",
    "\n",
    "1310 train_loss 5.061798095703125 accuracy 88.446044921875\n",
    "\n",
    "\n",
    "---\n",
    "\n",
    "__[11] fixed bb gradient mask| focal loss and mse by sample| selected boxes| lr=0.001| gamma 095 every 500 epochs| std for each rv cell| 2k epochs| fixed degrees and radians where neccessary__\n",
    "\n",
    "much better, but boxes are still smaller than optimal\n",
    "\n",
    "---\n",
    "\n",
    "__[12] 11 but with fixed logstd loss. fixed - now it the loss of a sample is the sum of it's bb losses, and the loss of the boxes is the mean loss over samples|  lr=0.00005 | lr decrease 095 every 200__\n",
    "\n",
    "lr=0.0005 - stuck on 14.5\n"
   ]
  },
  {
   "cell_type": "markdown",
   "id": "0284d6d4",
   "metadata": {},
   "source": [
    "---"
   ]
  },
  {
   "cell_type": "code",
   "execution_count": null,
   "id": "b2a35311",
   "metadata": {},
   "outputs": [],
   "source": [
    "# torch.save(lasernet, 'lasernet12')"
   ]
  },
  {
   "cell_type": "code",
   "execution_count": 46,
   "id": "3b881518",
   "metadata": {},
   "outputs": [],
   "source": [
    "# lasernet = torch.load('lasernet7')"
   ]
  },
  {
   "cell_type": "code",
   "execution_count": 47,
   "id": "db51bad7",
   "metadata": {},
   "outputs": [
    {
     "data": {
      "text/plain": [
       "(torch.Size([7, 128, 32]), (32, 128, 32), (8, 128, 32))"
      ]
     },
     "execution_count": 47,
     "metadata": {},
     "output_type": "execute_result"
    }
   ],
   "source": [
    "non_object_labels = [0, 24, 25, 26, 27, 28, 29, 30, 31]\n",
    "\n",
    "with torch.no_grad():\n",
    "    pointclass_preds, bb_param_preds, _ = lasernet(x=batch_rv)\n",
    "\n",
    "pointclass_preds = pointclass_preds.detach().cpu().numpy()\n",
    "bb_corner_preds = bb_param_preds.detach().cpu().numpy()\n",
    "\n",
    "range_view_ex = batch_rv[1]\n",
    "class_predictions_ex = pointclass_preds[1]\n",
    "bb_corner_preds_ex = bb_corner_preds[1]\n",
    "\n",
    "range_view_ex.shape, class_predictions_ex.shape, bb_corner_preds_ex.shape"
   ]
  },
  {
   "cell_type": "code",
   "execution_count": 49,
   "id": "3a237b8b",
   "metadata": {},
   "outputs": [
    {
     "name": "stdout",
     "output_type": "stream",
     "text": [
      "(32, 128, 32)\n"
     ]
    }
   ],
   "source": [
    "# Width x Height, max class labels of each cell\n",
    "class_pred_labels_ex = np.argmax(class_predictions_ex, axis=0)\n",
    "\n",
    "# sum([class_pred_labels_ex == nol for nol in non_object_labels]) == 0 128x32\n",
    "\n",
    "indices = np.array(np.nonzero(sum([class_pred_labels_ex == nol for nol in non_object_labels]) == 0)).T\n",
    "# unique widths and heights of cells wich are classified as objects\n",
    "\n",
    "# Classes x Width x Height, softmax probabilities of classes in each cell\n",
    "bb_class_probs_ex = torch.softmax(torch.Tensor(class_predictions_ex), dim=0).cpu().numpy()\n",
    "print(bb_class_probs_ex.shape)\n",
    "fig = go.Figure(data=[go.Scatter3d(x=range_view_ex[0].cpu().flatten(),\n",
    "                                   y=range_view_ex[1].cpu().flatten(),\n",
    "                                   z=np.zeros_like(range_view_ex[2].cpu().flatten()),\n",
    "                                   mode='markers',\n",
    "                                   marker=dict(size=2))])\n",
    "\n",
    "for w, h in indices:\n",
    "        # check model's certainty\n",
    "        class_prob = max(bb_class_probs_ex[:, w, h])\n",
    "        class_label = np.argmax(bb_class_probs_ex[:, w, h])\n",
    "\n",
    "        if class_prob > 0.5:\n",
    "            x = bb_corner_preds_ex[0::2, w, h]\n",
    "            y = bb_corner_preds_ex[1::2, w, h]\n",
    "            \n",
    "            fig.add_mesh3d(x=list(x), \n",
    "                           y=list(y),\n",
    "                           z=np.zeros_like(x))\n",
    "\n",
    "fig.write_html(\"kek12.html\")"
   ]
  },
  {
   "cell_type": "markdown",
   "id": "f770efd4",
   "metadata": {},
   "source": [
    "---"
   ]
  },
  {
   "cell_type": "markdown",
   "id": "19e81fcd",
   "metadata": {},
   "source": [
    "### Adding image information to the LaserNet"
   ]
  },
  {
   "cell_type": "code",
   "execution_count": null,
   "id": "8305502c",
   "metadata": {},
   "outputs": [],
   "source": [
    "class LaserNetPP(nn.Module):\n",
    "    pass"
   ]
  },
  {
   "cell_type": "markdown",
   "id": "685688b8",
   "metadata": {},
   "source": [
    "### Non-maximum supression"
   ]
  },
  {
   "cell_type": "markdown",
   "id": "92098b42",
   "metadata": {},
   "source": [
    "- first we discard all boxes with it's class probability less than 0.6\n",
    "- then we select the most confident point and get rid of all boxes, that overlap with IoU >= 0.5"
   ]
  },
  {
   "cell_type": "code",
   "execution_count": null,
   "id": "ae89f366",
   "metadata": {},
   "outputs": [],
   "source": []
  }
 ],
 "metadata": {
  "kernelspec": {
   "display_name": "Python 3",
   "language": "python",
   "name": "python3"
  },
  "language_info": {
   "codemirror_mode": {
    "name": "ipython",
    "version": 3
   },
   "file_extension": ".py",
   "mimetype": "text/x-python",
   "name": "python",
   "nbconvert_exporter": "python",
   "pygments_lexer": "ipython3",
   "version": "3.9.4"
  }
 },
 "nbformat": 4,
 "nbformat_minor": 5
}
